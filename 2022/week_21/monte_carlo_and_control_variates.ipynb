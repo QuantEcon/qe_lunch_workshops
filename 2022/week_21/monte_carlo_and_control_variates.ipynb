{
 "cells": [
  {
   "cell_type": "markdown",
   "id": "7e96fc89",
   "metadata": {},
   "source": [
    "# Monte carlo"
   ]
  },
  {
   "cell_type": "markdown",
   "id": "dbc80984",
   "metadata": {},
   "source": [
    "Some imports:"
   ]
  },
  {
   "cell_type": "code",
   "execution_count": 1,
   "id": "071c75c6",
   "metadata": {},
   "outputs": [],
   "source": [
    "import numpy as np\n",
    "import matplotlib.pyplot as plt"
   ]
  },
  {
   "cell_type": "markdown",
   "id": "3a3de217",
   "metadata": {},
   "source": [
    "Suppose we want to estimate\n",
    "$$\n",
    "\\mu = \\int^1_0 \\frac{1}{1+x} dx\n",
    "$$\n",
    "\n",
    "Let $m = f(U) = 1 / (1 + U)$ and $U$ follow a uniform distribution on $[0, 1]$. Since \n",
    "$$\n",
    "\\mu = \\mathbb E (f(U))\n",
    "$$\n",
    "if we have a sample of size $n$ for $U$, i.e., $\\{u_1, \\cdots, u_n\\}$, then the monte carlo simulation is\n",
    "$$\n",
    "\\mu \\approx \\frac{1}{n} \\sum_i f(u_i)\n",
    "$$"
   ]
  },
  {
   "cell_type": "code",
   "execution_count": 2,
   "id": "37555421",
   "metadata": {},
   "outputs": [],
   "source": [
    "def f(u):\n",
    "    return 1 / (1 + u)"
   ]
  },
  {
   "cell_type": "code",
   "execution_count": 3,
   "id": "f9f93d67",
   "metadata": {},
   "outputs": [],
   "source": [
    "n = 1_500\n",
    "u = np.random.rand(n)\n",
    "μ = f(u).sum() / n"
   ]
  },
  {
   "cell_type": "code",
   "execution_count": 4,
   "id": "6d016295",
   "metadata": {},
   "outputs": [
    {
     "data": {
      "text/plain": [
       "0.6961499511493515"
      ]
     },
     "execution_count": 4,
     "metadata": {},
     "output_type": "execute_result"
    }
   ],
   "source": [
    "μ"
   ]
  },
  {
   "cell_type": "code",
   "execution_count": 5,
   "id": "1540c219",
   "metadata": {},
   "outputs": [
    {
     "data": {
      "text/plain": [
       "0.019916326465205202"
      ]
     },
     "execution_count": 5,
     "metadata": {},
     "output_type": "execute_result"
    }
   ],
   "source": [
    "np.var(f(u))"
   ]
  },
  {
   "cell_type": "markdown",
   "id": "5fb8c9ee",
   "metadata": {},
   "source": [
    "# Control variates"
   ]
  },
  {
   "cell_type": "markdown",
   "id": "5a1d53b2",
   "metadata": {},
   "source": [
    "Introduce $t= g(U)= 1 + U$ as a control variate with a known expected value \n",
    "$$\n",
    "\\mathbb E [ t] = \\mathbb E [ g(U)] = \\int^1_0 (1 + x) dx = 3/2 = \\tau\n",
    "$$\n",
    "\n",
    "Combine these two into a new estimate\n",
    "$$\n",
    "\\mu_{cv} \\approx \\frac{1}{n} \\sum_i f(u_i) + c^* \\left ( \\frac{1}{n} \\sum_i g(u_i) - 3/2  \\right )\n",
    "$$\n",
    "- where $c^*$ is an estimated optimal coefficient, carefully chosen by giving $m$ and $t$."
   ]
  },
  {
   "cell_type": "code",
   "execution_count": 42,
   "id": "cc840b18",
   "metadata": {},
   "outputs": [],
   "source": [
    "def g(u):\n",
    "    return -1 / (1 + u)"
   ]
  },
  {
   "cell_type": "code",
   "execution_count": 43,
   "id": "e50e5f51",
   "metadata": {},
   "outputs": [],
   "source": [
    "def c_star(m, t):\n",
    "    return - np.cov(m, t)[0, 1] / np.var(t)"
   ]
  },
  {
   "cell_type": "code",
   "execution_count": 44,
   "id": "6c7ac7aa",
   "metadata": {},
   "outputs": [],
   "source": [
    "g = g(u)"
   ]
  },
  {
   "cell_type": "code",
   "execution_count": 45,
   "id": "84dfeaa5",
   "metadata": {},
   "outputs": [],
   "source": [
    "c_star = c_star(f(u), g)"
   ]
  },
  {
   "cell_type": "code",
   "execution_count": 46,
   "id": "472954d8",
   "metadata": {},
   "outputs": [],
   "source": [
    "def control_variate(m, t, \n",
    "                    c=c_star, \n",
    "                    τ=-0.6932):\n",
    "    \n",
    "    return m + c * (t - τ)"
   ]
  },
  {
   "cell_type": "code",
   "execution_count": 47,
   "id": "41df77a3",
   "metadata": {},
   "outputs": [
    {
     "data": {
      "text/plain": [
       "array([[ 1., -1.],\n",
       "       [-1.,  1.]])"
      ]
     },
     "execution_count": 47,
     "metadata": {},
     "output_type": "execute_result"
    }
   ],
   "source": [
    "np.corrcoef(f(u), g)"
   ]
  },
  {
   "cell_type": "code",
   "execution_count": 48,
   "id": "b1793200",
   "metadata": {},
   "outputs": [],
   "source": [
    "cv = control_variate(f(u), g)\n",
    "μ_cv = cv.sum() / n"
   ]
  },
  {
   "cell_type": "code",
   "execution_count": 49,
   "id": "ba460ab8",
   "metadata": {},
   "outputs": [
    {
     "data": {
      "text/plain": [
       "0.6931980320539363"
      ]
     },
     "execution_count": 49,
     "metadata": {},
     "output_type": "execute_result"
    }
   ],
   "source": [
    "μ_cv"
   ]
  },
  {
   "cell_type": "code",
   "execution_count": 50,
   "id": "6c711ed0",
   "metadata": {},
   "outputs": [
    {
     "data": {
      "text/plain": [
       "8.863514731499787e-09"
      ]
     },
     "execution_count": 50,
     "metadata": {},
     "output_type": "execute_result"
    }
   ],
   "source": [
    "np.var(cv)"
   ]
  },
  {
   "cell_type": "code",
   "execution_count": 51,
   "id": "99a97e5f",
   "metadata": {},
   "outputs": [],
   "source": [
    "import pandas as pd"
   ]
  },
  {
   "cell_type": "code",
   "execution_count": 52,
   "id": "e2e783c7",
   "metadata": {},
   "outputs": [],
   "source": [
    "d = {\"m\": f(u), \"cv\": cv}"
   ]
  },
  {
   "cell_type": "code",
   "execution_count": 53,
   "id": "6390706f",
   "metadata": {},
   "outputs": [
    {
     "data": {
      "text/html": [
       "<div>\n",
       "<style scoped>\n",
       "    .dataframe tbody tr th:only-of-type {\n",
       "        vertical-align: middle;\n",
       "    }\n",
       "\n",
       "    .dataframe tbody tr th {\n",
       "        vertical-align: top;\n",
       "    }\n",
       "\n",
       "    .dataframe thead th {\n",
       "        text-align: right;\n",
       "    }\n",
       "</style>\n",
       "<table border=\"1\" class=\"dataframe\">\n",
       "  <thead>\n",
       "    <tr style=\"text-align: right;\">\n",
       "      <th></th>\n",
       "      <th>m</th>\n",
       "      <th>cv</th>\n",
       "    </tr>\n",
       "  </thead>\n",
       "  <tbody>\n",
       "    <tr>\n",
       "      <th>0</th>\n",
       "      <td>0.653753</td>\n",
       "      <td>0.693226</td>\n",
       "    </tr>\n",
       "    <tr>\n",
       "      <th>1</th>\n",
       "      <td>0.789214</td>\n",
       "      <td>0.693136</td>\n",
       "    </tr>\n",
       "    <tr>\n",
       "      <th>2</th>\n",
       "      <td>0.887089</td>\n",
       "      <td>0.693071</td>\n",
       "    </tr>\n",
       "    <tr>\n",
       "      <th>3</th>\n",
       "      <td>0.566879</td>\n",
       "      <td>0.693284</td>\n",
       "    </tr>\n",
       "    <tr>\n",
       "      <th>4</th>\n",
       "      <td>0.874927</td>\n",
       "      <td>0.693079</td>\n",
       "    </tr>\n",
       "    <tr>\n",
       "      <th>...</th>\n",
       "      <td>...</td>\n",
       "      <td>...</td>\n",
       "    </tr>\n",
       "    <tr>\n",
       "      <th>1495</th>\n",
       "      <td>0.759483</td>\n",
       "      <td>0.693156</td>\n",
       "    </tr>\n",
       "    <tr>\n",
       "      <th>1496</th>\n",
       "      <td>0.613061</td>\n",
       "      <td>0.693253</td>\n",
       "    </tr>\n",
       "    <tr>\n",
       "      <th>1497</th>\n",
       "      <td>0.750312</td>\n",
       "      <td>0.693162</td>\n",
       "    </tr>\n",
       "    <tr>\n",
       "      <th>1498</th>\n",
       "      <td>0.844427</td>\n",
       "      <td>0.693099</td>\n",
       "    </tr>\n",
       "    <tr>\n",
       "      <th>1499</th>\n",
       "      <td>0.556939</td>\n",
       "      <td>0.693291</td>\n",
       "    </tr>\n",
       "  </tbody>\n",
       "</table>\n",
       "<p>1500 rows × 2 columns</p>\n",
       "</div>"
      ],
      "text/plain": [
       "             m        cv\n",
       "0     0.653753  0.693226\n",
       "1     0.789214  0.693136\n",
       "2     0.887089  0.693071\n",
       "3     0.566879  0.693284\n",
       "4     0.874927  0.693079\n",
       "...        ...       ...\n",
       "1495  0.759483  0.693156\n",
       "1496  0.613061  0.693253\n",
       "1497  0.750312  0.693162\n",
       "1498  0.844427  0.693099\n",
       "1499  0.556939  0.693291\n",
       "\n",
       "[1500 rows x 2 columns]"
      ]
     },
     "execution_count": 53,
     "metadata": {},
     "output_type": "execute_result"
    }
   ],
   "source": [
    "df = pd.DataFrame(d, columns=['m','cv'])\n",
    "df"
   ]
  },
  {
   "cell_type": "code",
   "execution_count": 55,
   "id": "a45e8e0a",
   "metadata": {},
   "outputs": [
    {
     "data": {
      "image/png": "[encoded data removed]",
      "text/plain": [
       "<Figure size 720x720 with 1 Axes>"
      ]
     },
     "metadata": {
      "needs_background": "light"
     },
     "output_type": "display_data"
    }
   ],
   "source": [
    "fig, ax = plt.subplots(figsize=(10, 10))\n",
    "\n",
    "df.plot(y=[\"m\", \"cv\"],\n",
    "        kind=\"line\", ax=ax)\n",
    "\n",
    "plt.ylim(0.68, 0.70)\n",
    "# display plot\n",
    "plt.show()"
   ]
  },
  {
   "cell_type": "code",
   "execution_count": null,
   "id": "85674768",
   "metadata": {},
   "outputs": [],
   "source": []
  }
 ],
 "metadata": {
  "kernelspec": {
   "display_name": "Python 3 (ipykernel)",
   "language": "python",
   "name": "python3"
  },
  "language_info": {
   "codemirror_mode": {
    "name": "ipython",
    "version": 3
   },
   "file_extension": ".py",
   "mimetype": "text/x-python",
   "name": "python",
   "nbconvert_exporter": "python",
   "pygments_lexer": "ipython3",
   "version": "3.9.7"
  }
 },
 "nbformat": 4,
 "nbformat_minor": 5
}
