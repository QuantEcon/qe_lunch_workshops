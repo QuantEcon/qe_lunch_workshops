{
 "cells": [
  {
   "cell_type": "markdown",
   "metadata": {},
   "source": [
    "# Vectorization and JIT compilation in Python"
   ]
  },
  {
   "cell_type": "markdown",
   "metadata": {},
   "source": [
    "#### Examples for the QuantEcon 2017 PhD workshops"
   ]
  },
  {
   "cell_type": "markdown",
   "metadata": {},
   "source": [
    "[John Stachurski](http://johnstachurski.net)"
   ]
  },
  {
   "cell_type": "code",
   "execution_count": 26,
   "metadata": {
    "nbpresent": {
     "id": "cacd76f0-600a-4ac9-ba39-ae23747177c8"
    },
    "slideshow": {
     "slide_type": "-"
    }
   },
   "outputs": [],
   "source": [
    "import numpy as np\n",
    "from numba import jit\n",
    "from quantecon.util import tic, toc\n",
    "import matplotlib.pyplot as plt"
   ]
  },
  {
   "cell_type": "markdown",
   "metadata": {},
   "source": [
    "## Slow loops in Python"
   ]
  },
  {
   "cell_type": "markdown",
   "metadata": {},
   "source": [
    "In interpreted languages like Python, types need to be checked."
   ]
  },
  {
   "cell_type": "code",
   "execution_count": 27,
   "metadata": {},
   "outputs": [
    {
     "data": {
      "text/plain": [
       "3"
      ]
     },
     "execution_count": 27,
     "metadata": {},
     "output_type": "execute_result"
    }
   ],
   "source": [
    "a, b = 1, 2\n",
    "a + b"
   ]
  },
  {
   "cell_type": "code",
   "execution_count": 28,
   "metadata": {},
   "outputs": [
    {
     "data": {
      "text/plain": [
       "3.0"
      ]
     },
     "execution_count": 28,
     "metadata": {},
     "output_type": "execute_result"
    }
   ],
   "source": [
    "a, b = 1.0, 2.0\n",
    "a + b"
   ]
  },
  {
   "cell_type": "code",
   "execution_count": 29,
   "metadata": {},
   "outputs": [
    {
     "data": {
      "text/plain": [
       "'foobar'"
      ]
     },
     "execution_count": 29,
     "metadata": {},
     "output_type": "execute_result"
    }
   ],
   "source": [
    "a, b = \"foo\", \"bar\"\n",
    "a + b"
   ]
  },
  {
   "cell_type": "code",
   "execution_count": 30,
   "metadata": {},
   "outputs": [],
   "source": [
    "def add_pair(a, b):\n",
    "    return a + b"
   ]
  },
  {
   "cell_type": "code",
   "execution_count": 31,
   "metadata": {},
   "outputs": [],
   "source": [
    "n = 10_000_000\n",
    "a_vec = np.random.randn(n)\n",
    "b_vec = np.random.randn(n)"
   ]
  },
  {
   "cell_type": "code",
   "execution_count": 32,
   "metadata": {},
   "outputs": [
    {
     "name": "stdout",
     "output_type": "stream",
     "text": [
      "CPU times: user 2.18 s, sys: 258 µs, total: 2.18 s\n",
      "Wall time: 2.18 s\n"
     ]
    }
   ],
   "source": [
    "%%time\n",
    "\n",
    "for a, b in zip(a_vec, b_vec):\n",
    "    c = add_pair(a, b)"
   ]
  },
  {
   "cell_type": "markdown",
   "metadata": {},
   "source": [
    "## Quadmap JIT compiled in Python"
   ]
  },
  {
   "cell_type": "markdown",
   "metadata": {},
   "source": [
    "Here's a function that simulates for `n` periods, starting from `x0`, and returns **only the final** value:"
   ]
  },
  {
   "cell_type": "code",
   "execution_count": 36,
   "metadata": {},
   "outputs": [],
   "source": [
    "def quad(x0, n):\n",
    "    x = x0\n",
    "    for i in range(1, n):\n",
    "        x = 4 * x * (1 - x)\n",
    "    return x"
   ]
  },
  {
   "cell_type": "markdown",
   "metadata": {},
   "source": [
    "Let's see how fast this runs:"
   ]
  },
  {
   "cell_type": "code",
   "execution_count": 37,
   "metadata": {},
   "outputs": [],
   "source": [
    "n = 10_000_000"
   ]
  },
  {
   "cell_type": "code",
   "execution_count": 42,
   "metadata": {},
   "outputs": [
    {
     "name": "stdout",
     "output_type": "stream",
     "text": [
      "TOC: Elapsed: 0:00:0.62\n"
     ]
    },
    {
     "data": {
      "text/plain": [
       "0.6272072792053223"
      ]
     },
     "execution_count": 42,
     "metadata": {},
     "output_type": "execute_result"
    }
   ],
   "source": [
    "tic()\n",
    "x = quad(0.1, n)\n",
    "toc()"
   ]
  },
  {
   "cell_type": "markdown",
   "metadata": {},
   "source": [
    "Now let's do the same thing in Python using Numba's JIT compilation:"
   ]
  },
  {
   "cell_type": "code",
   "execution_count": 43,
   "metadata": {},
   "outputs": [],
   "source": [
    "quad_jitted = jit(quad)"
   ]
  },
  {
   "cell_type": "code",
   "execution_count": 44,
   "metadata": {},
   "outputs": [
    {
     "name": "stdout",
     "output_type": "stream",
     "text": [
      "TOC: Elapsed: 0:00:0.11\n"
     ]
    },
    {
     "data": {
      "text/plain": [
       "0.11262655258178711"
      ]
     },
     "execution_count": 44,
     "metadata": {},
     "output_type": "execute_result"
    }
   ],
   "source": [
    "tic()\n",
    "x = quad_jitted(0.2, n)\n",
    "toc()"
   ]
  },
  {
   "cell_type": "code",
   "execution_count": 45,
   "metadata": {},
   "outputs": [
    {
     "name": "stdout",
     "output_type": "stream",
     "text": [
      "TOC: Elapsed: 0:00:0.06\n"
     ]
    },
    {
     "data": {
      "text/plain": [
       "0.06037473678588867"
      ]
     },
     "execution_count": 45,
     "metadata": {},
     "output_type": "execute_result"
    }
   ],
   "source": [
    "tic()\n",
    "x = quad_jitted(0.2, n)\n",
    "toc()"
   ]
  },
  {
   "cell_type": "code",
   "execution_count": null,
   "metadata": {},
   "outputs": [],
   "source": []
  }
 ],
 "metadata": {
  "anaconda-cloud": {},
  "kernelspec": {
   "display_name": "Python 3 (ipykernel)",
   "language": "python",
   "name": "python3"
  },
  "language_info": {
   "codemirror_mode": {
    "name": "ipython",
    "version": 3
   },
   "file_extension": ".py",
   "mimetype": "text/x-python",
   "name": "python",
   "nbconvert_exporter": "python",
   "pygments_lexer": "ipython3",
   "version": "3.9.7"
  },
  "nbpresent": {
   "slides": {
    "5f0cc85e-076a-4da2-8fda-63dd0f2a9690": {
     "id": "5f0cc85e-076a-4da2-8fda-63dd0f2a9690",
     "prev": null,
     "regions": {
      "06b15178-1835-4699-b6d7-bef485bc3e0c": {
       "attrs": {
        "height": 0.8,
        "width": 0.8,
        "x": 0.1,
        "y": 0.1
       },
       "content": {
        "cell": "cacd76f0-600a-4ac9-ba39-ae23747177c8",
        "part": "whole"
       },
       "id": "06b15178-1835-4699-b6d7-bef485bc3e0c"
      }
     }
    },
    "f87bdd75-45d7-4a76-b635-95a7d9e7246a": {
     "id": "f87bdd75-45d7-4a76-b635-95a7d9e7246a",
     "prev": "5f0cc85e-076a-4da2-8fda-63dd0f2a9690",
     "regions": {
      "089613ea-0a0b-48f4-851f-0891f974e154": {
       "attrs": {
        "height": 0.4,
        "width": 0.8,
        "x": 0.1,
        "y": 0.5
       },
       "content": {
        "cell": "e443f7ad-f26e-4148-983e-83a5f6a2214e",
        "part": "whole"
       },
       "id": "089613ea-0a0b-48f4-851f-0891f974e154"
      },
      "0d2bad86-5f46-41c4-944c-b66714857f9b": {
       "attrs": {
        "height": 0.4,
        "width": 0.8,
        "x": 0.1,
        "y": 0.5
       },
       "content": {
        "cell": "fa704f81-9121-4f07-8269-aeca542d2b95",
        "part": "whole"
       },
       "id": "0d2bad86-5f46-41c4-944c-b66714857f9b"
      },
      "122e8b02-35b3-4a27-ba2c-efc21394a434": {
       "attrs": {
        "height": 0.4,
        "width": 0.8,
        "x": 0.1,
        "y": 0.5
       },
       "content": {
        "cell": "c9d2e1ae-8d24-43bf-a846-f3e71a51c703",
        "part": "whole"
       },
       "id": "122e8b02-35b3-4a27-ba2c-efc21394a434"
      },
      "12ad336f-91c3-470e-8fad-1e2d6377a974": {
       "attrs": {
        "height": 0.4,
        "width": 0.8,
        "x": 0.1,
        "y": 0.5
       },
       "content": {
        "cell": "d10d0175-22b1-4ac3-a2d7-c352fb531d8d",
        "part": "whole"
       },
       "id": "12ad336f-91c3-470e-8fad-1e2d6377a974"
      },
      "1b544b8c-bb08-4bb5-a6b9-413a5d77b374": {
       "attrs": {
        "height": 0.4,
        "width": 0.8,
        "x": 0.1,
        "y": 0.5
       },
       "content": {
        "cell": "b40004cc-afd9-46c8-aace-76599cd8877f",
        "part": "whole"
       },
       "id": "1b544b8c-bb08-4bb5-a6b9-413a5d77b374"
      },
      "25cbaa1f-606c-4842-a016-397329bbd9eb": {
       "attrs": {
        "height": 0.4,
        "width": 0.8,
        "x": 0.1,
        "y": 0.5
       },
       "content": {
        "cell": "1a87d1e5-613e-499b-8245-85a83dd44c3c",
        "part": "whole"
       },
       "id": "25cbaa1f-606c-4842-a016-397329bbd9eb"
      },
      "4fcfd394-0917-4969-a153-c0ef2e128cb8": {
       "attrs": {
        "height": 0.4,
        "width": 0.8,
        "x": 0.1,
        "y": 0.5
       },
       "content": {
        "cell": "fee90a2c-55a1-4dd9-b7fb-98393b8cfab6",
        "part": "whole"
       },
       "id": "4fcfd394-0917-4969-a153-c0ef2e128cb8"
      },
      "5094100a-aa5b-4a20-a0b7-8afc5df24ce1": {
       "attrs": {
        "height": 0.4,
        "width": 0.8,
        "x": 0.1,
        "y": 0.5
       },
       "content": {
        "cell": "108c4e8e-5c04-4413-b88c-dc3ded1fa205",
        "part": "whole"
       },
       "id": "5094100a-aa5b-4a20-a0b7-8afc5df24ce1"
      },
      "5bd94090-dc5d-4491-abb3-f512c4809a29": {
       "attrs": {
        "height": 0.4,
        "width": 0.8,
        "x": 0.1,
        "y": 0.5
       },
       "content": {
        "cell": "dce934f5-18df-40ad-95fd-7dc41afb374c",
        "part": "whole"
       },
       "id": "5bd94090-dc5d-4491-abb3-f512c4809a29"
      },
      "69183273-481a-436d-ab6a-8e9407531caa": {
       "attrs": {
        "height": 0.4,
        "width": 0.8,
        "x": 0.1,
        "y": 0.5
       },
       "content": {
        "cell": "7142319b-473c-42f2-b71b-26fa7af0eb26",
        "part": "whole"
       },
       "id": "69183273-481a-436d-ab6a-8e9407531caa"
      },
      "7233d00c-d236-4199-b5b1-02d740e659c2": {
       "attrs": {
        "height": 0.4,
        "width": 0.8,
        "x": 0.1,
        "y": 0.5
       },
       "content": {
        "cell": "51ade0e9-e352-409f-a1dd-8b22d82108db",
        "part": "whole"
       },
       "id": "7233d00c-d236-4199-b5b1-02d740e659c2"
      },
      "747f7239-4301-482e-b0c8-1724edd151ef": {
       "attrs": {
        "height": 0.8,
        "width": 0.8,
        "x": 0.1,
        "y": 0.1
       },
       "content": {
        "cell": "8af4eb7e-957d-46e8-b88b-7dbff1735620",
        "part": "whole"
       },
       "id": "747f7239-4301-482e-b0c8-1724edd151ef"
      },
      "75e952d4-e4e7-4cb8-ab3f-0082418d598e": {
       "attrs": {
        "height": 0.4,
        "width": 0.8,
        "x": 0.1,
        "y": 0.5
       },
       "content": {
        "cell": "6a16f917-c5e8-4422-9d4a-f4d9b877e07f",
        "part": "whole"
       },
       "id": "75e952d4-e4e7-4cb8-ab3f-0082418d598e"
      },
      "7a71e843-40e9-42d5-9d75-218328b41a24": {
       "attrs": {
        "height": 0.4,
        "width": 0.8,
        "x": 0.1,
        "y": 0.5
       },
       "content": {
        "cell": "ecd03468-171a-4609-9761-d2c50c6aa30c",
        "part": "whole"
       },
       "id": "7a71e843-40e9-42d5-9d75-218328b41a24"
      },
      "8cc6d667-9331-4923-bfef-c467b5d6ceb5": {
       "attrs": {
        "height": 0.4,
        "width": 0.8,
        "x": 0.1,
        "y": 0.5
       },
       "content": {
        "cell": "164e8b6c-b5c5-4a02-afe3-5ad852d6a611",
        "part": "whole"
       },
       "id": "8cc6d667-9331-4923-bfef-c467b5d6ceb5"
      },
      "90b6975d-2591-4107-bb00-78e1b33e421a": {
       "attrs": {
        "height": 0.4,
        "width": 0.8,
        "x": 0.1,
        "y": 0.5
       },
       "content": {
        "cell": "59f66599-d882-41c1-8954-0ae61a8e3dcd",
        "part": "whole"
       },
       "id": "90b6975d-2591-4107-bb00-78e1b33e421a"
      },
      "92b07248-6641-4903-a014-ab419d87feb0": {
       "attrs": {
        "height": 0.4,
        "width": 0.8,
        "x": 0.1,
        "y": 0.5
       },
       "content": {
        "cell": "b8cf533b-46bf-49d9-8013-656f7c8c7a36",
        "part": "whole"
       },
       "id": "92b07248-6641-4903-a014-ab419d87feb0"
      },
      "94471b9e-2696-4e64-ace6-effedc8dfe87": {
       "attrs": {
        "height": 0.4,
        "width": 0.8,
        "x": 0.1,
        "y": 0.5
       },
       "content": {
        "cell": "1ba9f9f9-f737-4ee1-86e6-0a33c4752188",
        "part": "whole"
       },
       "id": "94471b9e-2696-4e64-ace6-effedc8dfe87"
      },
      "ab774ea3-7b55-4544-bffc-8f687deb62d5": {
       "attrs": {
        "height": 0.4,
        "width": 0.8,
        "x": 0.1,
        "y": 0.5
       },
       "content": {
        "cell": "3de27362-4528-4669-8e3d-2e7db1dd0721",
        "part": "whole"
       },
       "id": "ab774ea3-7b55-4544-bffc-8f687deb62d5"
      },
      "b00671e4-fa20-4afe-ae1e-ec7f0406ee78": {
       "attrs": {
        "height": 0.4,
        "width": 0.8,
        "x": 0.1,
        "y": 0.5
       },
       "content": {
        "cell": "7cb10cdd-f3f2-4933-a118-6bf75e31c1bb",
        "part": "whole"
       },
       "id": "b00671e4-fa20-4afe-ae1e-ec7f0406ee78"
      },
      "b72233c8-7ab3-458d-9afa-b03672a73f6d": {
       "attrs": {
        "height": 0.4,
        "width": 0.8,
        "x": 0.1,
        "y": 0.5
       },
       "content": {
        "cell": "8dfbf7da-5bbf-4b97-91ac-8cbf3247cd94",
        "part": "whole"
       },
       "id": "b72233c8-7ab3-458d-9afa-b03672a73f6d"
      },
      "c527a880-5c92-44fc-b53b-b4d2684b3e53": {
       "attrs": {
        "height": 0.4,
        "width": 0.8,
        "x": 0.1,
        "y": 0.5
       },
       "content": {
        "cell": "f6b01df6-f980-44bb-9521-57df04329791",
        "part": "whole"
       },
       "id": "c527a880-5c92-44fc-b53b-b4d2684b3e53"
      },
      "d03f7e50-ace3-4e93-879f-388e9f7e789f": {
       "attrs": {
        "height": 0.4,
        "width": 0.8,
        "x": 0.1,
        "y": 0.5
       },
       "content": {
        "cell": "4619db4f-423a-482f-9289-bc2d2cff7b7b",
        "part": "whole"
       },
       "id": "d03f7e50-ace3-4e93-879f-388e9f7e789f"
      },
      "d290dd20-ca36-44c8-8ced-eb8cbd7ee2ba": {
       "attrs": {
        "height": 0.4,
        "width": 0.8,
        "x": 0.1,
        "y": 0.5
       },
       "content": {
        "cell": "08ff9d10-b80e-489f-8e7e-5e1869903393",
        "part": "whole"
       },
       "id": "d290dd20-ca36-44c8-8ced-eb8cbd7ee2ba"
      },
      "d6a15129-e573-4582-bc0a-ae76aa23d921": {
       "attrs": {
        "height": 0.4,
        "width": 0.8,
        "x": 0.1,
        "y": 0.5
       },
       "content": {
        "cell": "7f41d68c-b9fb-4bbf-82fb-5fe760b4bc13",
        "part": "whole"
       },
       "id": "d6a15129-e573-4582-bc0a-ae76aa23d921"
      },
      "d7a49752-3c62-4582-b2e7-f0b994738788": {
       "attrs": {
        "height": 0.4,
        "width": 0.8,
        "x": 0.1,
        "y": 0.5
       },
       "content": {
        "cell": "6bc87c32-dc98-436b-b164-c50aa9fe7787",
        "part": "whole"
       },
       "id": "d7a49752-3c62-4582-b2e7-f0b994738788"
      },
      "e935afb6-7bbf-4505-aab1-b6f2d5708ca6": {
       "attrs": {
        "height": 0.4,
        "width": 0.8,
        "x": 0.1,
        "y": 0.5
       },
       "content": {
        "cell": "1dcbf2c8-f472-4e28-abd8-9e7e890fa3eb",
        "part": "whole"
       },
       "id": "e935afb6-7bbf-4505-aab1-b6f2d5708ca6"
      },
      "f3680c02-5962-42fa-8633-b31745ad5759": {
       "attrs": {
        "height": 0.4,
        "width": 0.8,
        "x": 0.1,
        "y": 0.5
       },
       "content": {
        "cell": "ee1131a7-5950-48e7-be71-91348ab35131",
        "part": "whole"
       },
       "id": "f3680c02-5962-42fa-8633-b31745ad5759"
      },
      "fd842322-40ea-4a42-ba0a-a243d9acd15c": {
       "attrs": {
        "height": 0.4,
        "width": 0.8,
        "x": 0.1,
        "y": 0.5
       },
       "content": {
        "cell": "e8b1fc0a-9db2-45d4-9319-dce84ed24ac2",
        "part": "whole"
       },
       "id": "fd842322-40ea-4a42-ba0a-a243d9acd15c"
      }
     }
    }
   },
   "themes": {}
  },
  "toc": {
   "colors": {
    "hover_highlight": "#DAA520",
    "navigate_num": "#000000",
    "navigate_text": "#333333",
    "running_highlight": "#FF0000",
    "selected_highlight": "#FFD700",
    "sidebar_border": "#EEEEEE",
    "wrapper_background": "#FFFFFF"
   },
   "moveMenuLeft": true,
   "nav_menu": {
    "height": "30px",
    "width": "253px"
   },
   "navigate_menu": true,
   "number_sections": false,
   "sideBar": true,
   "threshold": 4,
   "toc_cell": false,
   "toc_section_display": "block",
   "toc_window_display": false,
   "widenNotebook": false
  }
 },
 "nbformat": 4,
 "nbformat_minor": 2
}
