{
 "cells": [
  {
   "cell_type": "markdown",
   "metadata": {},
   "source": [
    "# MNP Model\n",
    "\n",
    "- agent $i$ chooses among the set of five alternaties : $C = \\{1, 2, 3, 4, 5\\}$ \n",
    "\n",
    "- Each alternative has two attributes\n",
    "\n",
    "  $$\n",
    "  \\begin{aligned}\n",
    "  U_{ij} &= z_{ij1}(1+\\eta_{ij1}) + z_{ij2}(b+\\eta_{ij2})\\\\\n",
    "         &\\equiv z_{ij1} + z_{ij2}b + v_{ij} \\quad (j = 1, ..., 5, \\quad i = 1, ..., n)\\\\\n",
    "  \\end{aligned}\n",
    "  $$\n",
    "\n",
    "- We assume $\\eta_{ij1}, \\eta_{ij2} \\sim i.i.d. N(0, 1)$, and $cov(\\eta_{ij1}, \\eta_{ij2}) = 0$. \n",
    "  \n",
    "  Then $v_{ij} \\sim N(0, z_{ij1}^2 + z_{ij2}^2) \\sim \\Big(\\sqrt{z_{ij1}^2 + z_{ij2}^2}\\Big)u_{ij}$, \n",
    "  where $u_{ij} \\sim N(0, 1)$.\n",
    "\n",
    "- observed choices $y_i = (y_{i1}, \\dots, y_{i5})$\n",
    "  where $y_{ij} = \\mathbf{1}(U_{ij} > U_{il},\\forall l \\neq j)$."
   ]
  },
  {
   "cell_type": "markdown",
   "metadata": {},
   "source": [
    "# Data\n",
    "We assume real $b = 4.0$"
   ]
  },
  {
   "cell_type": "code",
   "execution_count": 1,
   "metadata": {},
   "outputs": [
    {
     "name": "stdout",
     "output_type": "stream",
     "text": [
      "(10000, 5, 2) (10000, 5)\n"
     ]
    }
   ],
   "source": [
    "import numpy as np\n",
    "from mnp_utils import dgp\n",
    "\n",
    "# data (b = 4.0) \n",
    "# z_ij1, z_ij2 ~ U[0, 5]\n",
    "Z, Y = dgp(b = 4.0, N = 10_000, m = 5, low = 0.0, high = 10.0, seed = 1688)\n",
    "print(Z.shape, Y.shape)"
   ]
  },
  {
   "cell_type": "code",
   "execution_count": 2,
   "metadata": {},
   "outputs": [
    {
     "data": {
      "text/plain": [
       "array([1971., 1992., 2020., 1980., 2037.])"
      ]
     },
     "execution_count": 2,
     "metadata": {},
     "output_type": "execute_result"
    }
   ],
   "source": [
    "Y.sum(axis=0)"
   ]
  },
  {
   "cell_type": "markdown",
   "metadata": {},
   "source": [
    "# Moment Conditions\n",
    "\n",
    "- observed empirical moments ($z_i$ are raw IVs)\n",
    "  \n",
    "  $K = [K_1 ,..., K_5]'$\n",
    "  \n",
    "  $K_j(y_i, z_i) = \\mathbf{1}{(y_{ij} = 1)}$\n",
    "\n",
    "- theoretical moments\n",
    "\n",
    "  $k = [k_1, ..., k_5]'$\n",
    "  \n",
    "  $k_{j}\\left(z_{i} ; \\theta_{0}\\right) \n",
    "  = E_{0}\\left[K_{j}\\left(y_{i}, z_{i}\\right) \\mid z_{i}\\right]\n",
    "  = P_{0}\\left[y_{i j}=1 \\mid z_{i}\\right]$  "
   ]
  },
  {
   "cell_type": "markdown",
   "metadata": {},
   "source": [
    "# Frequency Simulator \n",
    "\n",
    "  $\\tilde{k}_j(z_i, \\eta_i; b) = K_j[r(u_i, z_i; b), z_i] \n",
    "  = \\mathbf{1}\\big(z_{ij1} + z_{ij2}b + v_{ij} > \n",
    "  z_{il1} + z_{il2}b + v_{il} \\quad \\forall l \\neq j \\big)$"
   ]
  },
  {
   "cell_type": "code",
   "execution_count": 3,
   "metadata": {},
   "outputs": [
    {
     "name": "stdout",
     "output_type": "stream",
     "text": [
      "b = 1.5:\n",
      " [[0.]\n",
      " [1.]\n",
      " [0.]\n",
      " [0.]\n",
      " [0.]]\n",
      "b = 1.6:\n",
      " [[0.]\n",
      " [1.]\n",
      " [0.]\n",
      " [0.]\n",
      " [0.]]\n",
      "b = 3.0:\n",
      " [[0.]\n",
      " [0.]\n",
      " [0.]\n",
      " [0.]\n",
      " [1.]]\n"
     ]
    }
   ],
   "source": [
    "from mnp_utils import freq_sim\n",
    "# simulator is not continuos w.r.t parameter b\n",
    "np.random.seed(123)\n",
    "v = np.random.normal(2, 0.5, size=5) \n",
    "print(\"b = 1.5:\\n\", freq_sim(v, z = Z[0], b = 1.5,))\n",
    "print(\"b = 1.6:\\n\", freq_sim(v, z = Z[0], b = 1.6,))\n",
    "print(\"b = 3.0:\\n\", freq_sim(v, z = Z[0], b = 3.0,))"
   ]
  },
  {
   "cell_type": "markdown",
   "metadata": {},
   "source": [
    "# Simple Estimation (based on frequency simulator)"
   ]
  },
  {
   "cell_type": "markdown",
   "metadata": {},
   "source": [
    "## MSM criteria"
   ]
  },
  {
   "cell_type": "code",
   "execution_count": 4,
   "metadata": {},
   "outputs": [
    {
     "name": "stdout",
     "output_type": "stream",
     "text": [
      "[[0.32613195 4.09545852]\n",
      " [4.32128726 8.29592807]\n",
      " [4.38696184 2.45478724]\n",
      " [5.25161259 8.17588723]\n",
      " [1.53664317 9.89311576]]\n"
     ]
    },
    {
     "data": {
      "text/plain": [
       "array([[1.        , 1.        , 1.        , 1.        , 1.        ],\n",
       "       [0.32613195, 4.32128726, 4.38696184, 5.25161259, 1.53664317],\n",
       "       [4.09545852, 8.29592807, 2.45478724, 8.17588723, 9.89311576]])"
      ]
     },
     "execution_count": 4,
     "metadata": {},
     "output_type": "execute_result"
    }
   ],
   "source": [
    "# IV function (use constant and attributes as IVs)\n",
    "from mnp_utils import simple_iv\n",
    "print(Z[0])\n",
    "simple_iv(Z[0])"
   ]
  },
  {
   "cell_type": "code",
   "execution_count": 5,
   "metadata": {},
   "outputs": [
    {
     "data": {
      "text/plain": [
       "array([[0.],\n",
       "       [0.],\n",
       "       [0.],\n",
       "       [1.],\n",
       "       [0.]])"
      ]
     },
     "execution_count": 5,
     "metadata": {},
     "output_type": "execute_result"
    }
   ],
   "source": [
    "# moments function\n",
    "from mnp_utils import mom \n",
    "mom(Y[0], Z[0])"
   ]
  },
  {
   "cell_type": "code",
   "execution_count": 6,
   "metadata": {},
   "outputs": [
    {
     "data": {
      "text/plain": [
       "array([16.87914257])"
      ]
     },
     "execution_count": 6,
     "metadata": {},
     "output_type": "execute_result"
    }
   ],
   "source": [
    "np.sum(Z ** 2, axis = 2, keepdims=True)[0][0]"
   ]
  },
  {
   "cell_type": "code",
   "execution_count": 7,
   "metadata": {},
   "outputs": [
    {
     "name": "stdout",
     "output_type": "stream",
     "text": [
      "minimizer:  4.0\n"
     ]
    },
    {
     "data": {
      "image/png": "[encoded data removed]",
      "text/plain": [
       "<Figure size 432x288 with 1 Axes>"
      ]
     },
     "metadata": {
      "needs_background": "light"
     },
     "output_type": "display_data"
    }
   ],
   "source": [
    "from mnp_utils import msm_criteria\n",
    "import matplotlib.pyplot as plt\n",
    "\n",
    "np.random.seed(42)\n",
    "\n",
    "# real b = 4.0\n",
    "N = 10_000\n",
    "m = 5\n",
    "Z, Y = dgp(b = 4.0, N = N, m = m, low = 0.0, high = 10.0, seed = 1688)\n",
    "\n",
    "S = 1\n",
    "V = np.empty((N, S, m))\n",
    "u = np.random.normal(0, 1, (N, S, m))\n",
    "std = np.sum(Z ** 2, axis = 2) ** 0.5\n",
    "for s in range(S):\n",
    "    V[:, s, :] = std * u[:, s, :]\n",
    "\n",
    "\n",
    "criteria_list = []\n",
    "for b in np.linspace(0, 10, 101):\n",
    "    criteria_list.append(msm_criteria(b, Z=Z, Y=Y, iv=simple_iv, mom_func=mom, \n",
    "                                 simulator=freq_sim, V=V, S=S, W=None))\n",
    "\n",
    "print(\"minimizer: \", np.linspace(0, 10, 101)[np.argmin(criteria_list)])\n",
    "\n",
    "plt.plot(np.linspace(0, 10, 101), criteria_list)\n",
    "plt.xlabel(\"b\")\n",
    "plt.ylabel(\"MSM criteria\")\n",
    "plt.title(f\"frequency simulator (N = {N}, S = {S})\")\n",
    "plt.show()"
   ]
  },
  {
   "cell_type": "markdown",
   "metadata": {},
   "source": [
    "## Estimation"
   ]
  },
  {
   "cell_type": "code",
   "execution_count": 8,
   "metadata": {},
   "outputs": [
    {
     "data": {
      "text/plain": [
       "array([3.996875])"
      ]
     },
     "execution_count": 8,
     "metadata": {},
     "output_type": "execute_result"
    }
   ],
   "source": [
    "from mnp_utils import msm_estimator\n",
    "\n",
    "msm_estimator(Z, Y, iv=simple_iv, mom_func=mom, simulator=freq_sim, S=S, W=None, x0=1.0, seed=42)"
   ]
  },
  {
   "cell_type": "markdown",
   "metadata": {},
   "source": [
    "## bootstrap standard errors"
   ]
  },
  {
   "cell_type": "code",
   "execution_count": 9,
   "metadata": {},
   "outputs": [],
   "source": [
    "# bootstrap standard errors\n",
    "np.random.seed(123456)\n",
    "N = 10_000 # number of observations\n",
    "S = 1 # one simulation\n",
    "m = 5 # number of alternatives\n",
    "Z, Y = dgp(b = 4.0, N = N, m = m, low = 0.0, high = 10.0, seed = 1688)\n",
    "\n",
    "b_sample_size=200 # bootstrap sample size\n",
    "all_ind = np.random.choice(np.arange(N), (b_sample_size, N), replace=True)\n",
    "b_est = np.empty(b_sample_size) # estimates list\n",
    "\n",
    "for i in range(b_sample_size):\n",
    "    ind = all_ind[i]\n",
    "    Z_b = Z[ind, :, :]\n",
    "    Y_b = Y[ind, :]\n",
    "    b_est[i] = msm_estimator(Z_b, Y_b, iv=simple_iv, mom_func=mom, simulator=freq_sim, S=S, \n",
    "                           W=None, x0=1.0, seed=42)"
   ]
  },
  {
   "cell_type": "code",
   "execution_count": 10,
   "metadata": {},
   "outputs": [
    {
     "name": "stdout",
     "output_type": "stream",
     "text": [
      "95% CI:  [3.9059375000000065, 4.322421875000007]\n",
      "bootstrap standard error: 0.09761120765935548\n"
     ]
    },
    {
     "data": {
      "image/png": "[encoded data removed]",
      "text/plain": [
       "<Figure size 432x288 with 1 Axes>"
      ]
     },
     "metadata": {
      "needs_background": "light"
     },
     "output_type": "display_data"
    }
   ],
   "source": [
    "plt.hist(b_est, edgecolor='black')\n",
    "plt.title(\"distribution of $\\hat{b}$ of the bootstrap samples\")\n",
    "print(\"95% CI: \", [np.percentile(b_est, 2.5), np.percentile(b_est, 97.5)])\n",
    "print(\"bootstrap standard error:\", np.std(b_est))"
   ]
  },
  {
   "cell_type": "markdown",
   "metadata": {},
   "source": [
    "## monte carlo simulation"
   ]
  },
  {
   "cell_type": "code",
   "execution_count": 11,
   "metadata": {},
   "outputs": [
    {
     "name": "stdout",
     "output_type": "stream",
     "text": [
      "se(b):  0.09029626778845493\n"
     ]
    },
    {
     "data": {
      "image/png": "[encoded data removed]",
      "text/plain": [
       "<Figure size 432x288 with 1 Axes>"
      ]
     },
     "metadata": {
      "needs_background": "light"
     },
     "output_type": "display_data"
    }
   ],
   "source": [
    "n_sim = 200 # number of mote carlo simulations\n",
    "mc_ests = np.empty(n_sim)\n",
    "N = 10_000 # number of observations\n",
    "S = 1 # one simulation\n",
    "m = 5 # number of alternatives\n",
    "\n",
    "for i in range(n_sim):\n",
    "    Z, Y = dgp(b = 4.0, N = N, m = m, low = 0.0, high = 10.0, seed = i)\n",
    "    mc_ests[i] = msm_estimator(Z, Y, iv=simple_iv, mom_func=mom, simulator=freq_sim, S=S, \n",
    "                             W=None, x0=1.0, seed=42)\n",
    "\n",
    "print(\"se(b): \", np.std(mc_ests))\n",
    "plt.hist(mc_ests, edgecolor='black', density=True)\n",
    "plt.title(\"distribution of $\\hat{b}$\")\n",
    "plt.show()"
   ]
  },
  {
   "cell_type": "markdown",
   "metadata": {},
   "source": [
    "# Stern Simulator\n",
    "\n",
    "$k_{j}\\left(z_{i} ; \\theta_{0}\\right) \n",
    "  = E_{0}\\left[K_{j}\\left(y_{i}, z_{i}\\right) \\mid z_{i}\\right]\n",
    "  = P_{0}\\left[y_{i j}=1 \\mid z_{i}\\right]$  \n",
    "\n",
    "We want to simulate the probability for $i$ choosing $j$ directly.\n",
    " \n",
    "Consider the variables measuring the differences between the utility levels:\n",
    "$$\n",
    "r_{j \\ell}=U_{i j}-U_{i \\ell}, \n",
    "\\quad r_{j \\ell} \n",
    "\\sim N\\Big((z_{ij1} - z_{il1}) + (z_{ij2} - z_{il2})b, \n",
    "\\quad z_{ij1}^2 + z_{il1}^2 + z_{ij2}^2 + z_{il2}^2 \\Big)\n",
    "$$\n",
    "Then $P_{0}\\left[y_{i j}=1 \\mid z_{i}\\right] = Pr(r_{il} > 0 \\quad \\forall l \\neq j) $ \n",
    "\n",
    "The distribution of $r_j = [r_{j 1}, \\ldots, r_{j, j-1}, r_{j, j+1}, \\ldots, r_{j, 5}]^{\\prime}$ is a normal distribution $N(\\mu, \\Sigma)$. \n",
    "\n",
    "$\\Sigma_{lp} = Cov(r_{jl}, r_{jp}) = z_{ij1}^2 + z_{ij2}^2 \\quad (l \\neq p)$.\n",
    "\n",
    "Set $\\lambda$ to be the smallest eigenvalue of $\\Sigma$, then $\\Sigma = {\\lambda} I + CC^{'}$.\n",
    "\n",
    "Then $Cu + \\sqrt{\\lambda} w \\sim N(0, \\Sigma)$, where $u, w \\sim i.i.d N(0, I_{m-1})$.\n",
    "Denote $l$-th row of $C$ by $c_l$: \n",
    "$$\n",
    "\\begin{aligned}\n",
    "Pr(r_{il} > 0) &= Pr\\Big(-(z_{ij1} - z_{il1}) + (z_{ij2} - z_{il2})b\n",
    "< c_{l}u + \\sqrt{\\lambda}w_j\\Big)\\\\ \n",
    "&= Pr(w_j > \\frac{-(z_{ij1} - z_{il1}) + (z_{ij2} - z_{il2})b - c_j{u}}{\\sqrt{\\lambda}})\\\\\n",
    "&= 1 - \\Phi(\\frac{-(z_{ij1} - z_{il1}) + (z_{ij2} - z_{il2})b - c_j{u}}{\\sqrt{\\lambda}})\n",
    "\\end{aligned}\n",
    "$$\n",
    "\n",
    "What we need to do is to draw $u$ from the ($m-1$ dimension) standard normal distribution for each $i, j$.\n",
    "\n",
    "$Pr(r_{il} > 0, \\forall l \\neq j) = \\Pi_{l\\neq j} Pr(r_{il} > 0)$."
   ]
  },
  {
   "cell_type": "code",
   "execution_count": 12,
   "metadata": {},
   "outputs": [],
   "source": [
    "from mnp_utils import stern_sim, msm_estimator"
   ]
  },
  {
   "cell_type": "code",
   "execution_count": 13,
   "metadata": {},
   "outputs": [
    {
     "data": {
      "text/plain": [
       "(array([[1.07120369e-03],\n",
       "        [3.13425764e-01],\n",
       "        [1.95136620e-11],\n",
       "        [7.06339613e-04],\n",
       "        [2.13429403e-05]]),\n",
       " array([1., 0., 0., 0., 0.]))"
      ]
     },
     "execution_count": 13,
     "metadata": {},
     "output_type": "execute_result"
    }
   ],
   "source": [
    "np.random.seed(123456)\n",
    "N = 10_000 # number of observations\n",
    "S = 1 # one simulation\n",
    "m = 5 # number of alternatives\n",
    "Z, Y = dgp(b = 4.0, N = N, m = m, low = 0.0, high = 10.0, seed = 1688)\n",
    "\n",
    "u = np.random.normal(size=(m, m-1))\n",
    "stern_sim(u, Z[2001], b=2.0), Y[2001]"
   ]
  },
  {
   "cell_type": "markdown",
   "metadata": {},
   "source": [
    "## MSM criteria "
   ]
  },
  {
   "cell_type": "code",
   "execution_count": 14,
   "metadata": {},
   "outputs": [
    {
     "name": "stdout",
     "output_type": "stream",
     "text": [
      "minimizer:  4.0\n"
     ]
    },
    {
     "data": {
      "image/png": "[encoded data removed]",
      "text/plain": [
       "<Figure size 432x288 with 1 Axes>"
      ]
     },
     "metadata": {
      "needs_background": "light"
     },
     "output_type": "display_data"
    }
   ],
   "source": [
    "np.random.seed(42)\n",
    "\n",
    "# real b = 4.0\n",
    "N = 10_000\n",
    "m = 5\n",
    "Z, Y = dgp(b = 4.0, N = N, m = m, low = 0.0, high = 10.0, seed = 1688)\n",
    "\n",
    "S = 1\n",
    "U = np.random.normal(size=(N, S, m, m-1))\n",
    "\n",
    "criteria_list = []\n",
    "for b in np.linspace(0, 10, 101):\n",
    "    criteria_list.append(msm_criteria(b, Z=Z, Y=Y, iv=simple_iv, mom_func=mom, \n",
    "                                      simulator=stern_sim, V=U, S=S, W=None))\n",
    "\n",
    "print(\"minimizer: \", np.linspace(0, 10, 101)[np.argmin(criteria_list)])\n",
    "\n",
    "plt.plot(np.linspace(0, 10, 101), criteria_list)\n",
    "plt.xlabel(\"b\")\n",
    "plt.ylabel(\"MSM criteria\")\n",
    "plt.title(f\"stern simulator (N = {N}, S = {S})\")\n",
    "plt.show()"
   ]
  },
  {
   "cell_type": "markdown",
   "metadata": {},
   "source": [
    "## Estimation"
   ]
  },
  {
   "cell_type": "code",
   "execution_count": 15,
   "metadata": {},
   "outputs": [
    {
     "data": {
      "text/plain": [
       "array([4.00163947])"
      ]
     },
     "execution_count": 15,
     "metadata": {},
     "output_type": "execute_result"
    }
   ],
   "source": [
    "msm_estimator(Z, Y, iv=simple_iv, mom_func=mom, simulator=stern_sim, S=S, W=None, x0=0.0, seed=42, \n",
    "              method=\"BFGS\", simulator_name=\"stern\")"
   ]
  },
  {
   "cell_type": "markdown",
   "metadata": {},
   "source": [
    "## monte carlo simulation"
   ]
  },
  {
   "cell_type": "code",
   "execution_count": 16,
   "metadata": {},
   "outputs": [
    {
     "name": "stdout",
     "output_type": "stream",
     "text": [
      "se(b):  0.10862095692215618\n"
     ]
    },
    {
     "data": {
      "image/png": "[encoded data removed]",
      "text/plain": [
       "<Figure size 432x288 with 1 Axes>"
      ]
     },
     "metadata": {
      "needs_background": "light"
     },
     "output_type": "display_data"
    }
   ],
   "source": [
    "n_sim = 100 # number of mote carlo simulations\n",
    "mc_ests = np.empty(n_sim)\n",
    "N = 10_000 # number of observations\n",
    "S = 1 # one simulation\n",
    "m = 5 # number of alternatives\n",
    "\n",
    "for i in range(n_sim):\n",
    "    Z, Y = dgp(b = 4.0, N = N, m = m, low = 0.0, high = 10.0, seed = i)\n",
    "    mc_ests[i] = msm_estimator(Z, Y, iv=simple_iv, mom_func=mom, simulator=stern_sim, S=S, \n",
    "                             W=None, x0=1.0, seed=42, method=\"BFGS\", simulator_name=\"stern\")\n",
    "\n",
    "print(\"se(b): \", np.std(mc_ests))\n",
    "plt.hist(mc_ests, edgecolor='black', density=True)\n",
    "plt.title(\"distribution of $\\hat{b}$ (stern simulator)\")\n",
    "plt.show()"
   ]
  },
  {
   "cell_type": "markdown",
   "metadata": {},
   "source": [
    "# Covariance Matrix"
   ]
  },
  {
   "cell_type": "code",
   "execution_count": 17,
   "metadata": {},
   "outputs": [
    {
     "data": {
      "text/plain": [
       "array([[5.31423802e-01],\n",
       "       [4.19974742e-03],\n",
       "       [2.10104678e-02],\n",
       "       [1.81136258e-06],\n",
       "       [4.28198268e-01]])"
      ]
     },
     "execution_count": 17,
     "metadata": {},
     "output_type": "execute_result"
    }
   ],
   "source": [
    "import importlib\n",
    "import mnp_utils\n",
    "importlib.reload(mnp_utils)\n",
    "from mnp_utils import approx_moments, msm_criteria, cov_estimator\n",
    "\n",
    "# approximate theoretical moments for one observation\n",
    "S2 = 100\n",
    "U = np.random.normal(0, 1, (S2, m, m-1))\n",
    "approx_moments(4.0, Z[10], simulator=stern_sim, U=U)"
   ]
  },
  {
   "cell_type": "markdown",
   "metadata": {},
   "source": [
    "# Two-Stage Estimation"
   ]
  },
  {
   "cell_type": "code",
   "execution_count": 18,
   "metadata": {},
   "outputs": [],
   "source": [
    "# first use identity weighting matrix \n",
    "b1 = msm_estimator(Z, Y, iv=simple_iv, mom_func=mom, simulator=stern_sim, S=S, W=None, \n",
    "                   x0=0.0, seed=42, method=\"BFGS\", simulator_name=\"stern\")[0]\n",
    "\n",
    "# asymptotic covariance matrix and optimal weighting matrix\n",
    "var1, optimal_W = cov_estimator(b1, Z, Y, iv=simple_iv, mom_func=mom, simulator=stern_sim, \n",
    "                              W=None, seed=2008, simulator_name=\"stern\", \n",
    "                              S=1, S2=100,)\n",
    "\n",
    "# second stage estimation using optimal weighting matrix\n",
    "b2 = msm_estimator(Z, Y, iv=simple_iv, mom_func=mom, simulator=stern_sim, S=S, W=optimal_W, \n",
    "                   x0=0.0, seed=42, method=\"BFGS\", simulator_name=\"stern\")[0]\n",
    "                   \n",
    "var2, *_ = cov_estimator(b2, Z, Y, iv=simple_iv, mom_func=mom, simulator=stern_sim, \n",
    "                     W=optimal_W, seed=2008, simulator_name=\"stern\", \n",
    "                     S = 1, S2=100, optimal_weighting=True)"
   ]
  },
  {
   "cell_type": "code",
   "execution_count": 19,
   "metadata": {},
   "outputs": [
    {
     "name": "stdout",
     "output_type": "stream",
     "text": [
      "two-stage estimation\n",
      "b = 4.098\n",
      "se(b) = 0.081\n"
     ]
    }
   ],
   "source": [
    "print(\"two-stage estimation\\nb = {:.3f}\\nse(b) = {:.3f}\".format(b2, np.sqrt(var2[0, 0] / N)))"
   ]
  }
 ],
 "metadata": {
  "kernelspec": {
   "display_name": "Python 3 (ipykernel)",
   "language": "python",
   "name": "python3"
  },
  "language_info": {
   "codemirror_mode": {
    "name": "ipython",
    "version": 3
   },
   "file_extension": ".py",
   "mimetype": "text/x-python",
   "name": "python",
   "nbconvert_exporter": "python",
   "pygments_lexer": "ipython3",
   "version": "3.9.13"
  },
  "toc": {
   "base_numbering": 1,
   "nav_menu": {},
   "number_sections": true,
   "sideBar": true,
   "skip_h1_title": false,
   "title_cell": "Table of Contents",
   "title_sidebar": "Contents",
   "toc_cell": false,
   "toc_position": {},
   "toc_section_display": true,
   "toc_window_display": false
  },
  "varInspector": {
   "cols": {
    "lenName": 16,
    "lenType": 16,
    "lenVar": 40
   },
   "kernels_config": {
    "python": {
     "delete_cmd_postfix": "",
     "delete_cmd_prefix": "del ",
     "library": "var_list.py",
     "varRefreshCmd": "print(var_dic_list())"
    },
    "r": {
     "delete_cmd_postfix": ") ",
     "delete_cmd_prefix": "rm(",
     "library": "var_list.r",
     "varRefreshCmd": "cat(var_dic_list()) "
    }
   },
   "types_to_exclude": [
    "module",
    "function",
    "builtin_function_or_method",
    "instance",
    "_Feature"
   ],
   "window_display": false
  },
  "vscode": {
   "interpreter": {
    "hash": "a88dd0910aca7aced9b7df778811ae595e3ebfb4a12da0bcb9cc936805726724"
   }
  }
 },
 "nbformat": 4,
 "nbformat_minor": 2
}
