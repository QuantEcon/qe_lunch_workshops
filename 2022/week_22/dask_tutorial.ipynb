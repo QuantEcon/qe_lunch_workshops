{
 "cells": [
  {
   "cell_type": "markdown",
   "metadata": {},
   "source": [
    "# Dask"
   ]
  },
  {
   "cell_type": "markdown",
   "metadata": {},
   "source": [
    "## Threads and processes\n",
    "\n",
    "It is important to be comfortable with these two terms before procedding.\n",
    "\n",
    "1) Processes: A process, in the simplest terms, is an executing program. One or more threads run in the context of the process.\n",
    "\n",
    "2) Threads: A thread is the basic unit to which the operating system allocates processor time. A thread can execute any part of a program, including parts currently being executed by another thread. Threads in a same process have shared memory.\n",
    "\n",
    "Source: [Microsoft Docs](https://docs.microsoft.com/en-us/windows/win32/procthread/processes-and-threads)\n",
    "\n",
    "When multithreading term is used, it basically means a bunch of threads running independently but sharing memory within a single process. It can mean having parallel computing capabilities in languages like C/C++ etc or when doing I/O or network operations. But in python because of the Global Interpretor Lock(GIL), only one thread can run execution at one time in a process. \n",
    "So essentially, if you are using multithreading in pure python code, then it gives similar performance to single-threaded execution. Only multiprocessing can give parallel execution performance for pure python code computations."
   ]
  },
  {
   "cell_type": "markdown",
   "metadata": {},
   "source": [
    "## Introduction to Dask\n",
    "\n",
    "Dask is a popular library for parallel and distributed computing in Python. It has a familiar and easy to use API and also provides low level interfaces to create your own custom workloads.\n",
    "\n",
    "The motivation to use dask is nicely outlined in this [article](https://docs.dask.org/en/latest/why.html). But to summarize their points:\n",
    " \n",
    "1) **Dask enables** computations to scale out to multiple machines, with easy to debug and robust interfaces. \n",
    "2) **Dask enhances** your local system's computational capabilities by leveraging multiple cores to compute in parallel (if the program can be parallelized).\n",
    "3) **Dask integrates** with and complements the existing pyData ecosystem and tools like numpy, pandas, scikit-learn etc. It copies most of their APIs to go parallel and distributed. These are called **high-level APIs**.\n",
    "4) **Dask supports** complex applications as well, by giving access to its **low-level APIs** used to create its own internal task scheduler. \n",
    "5) **Dask delivers** rich and responsive feedbacks on computations by providing a dashboard where you can view how the task is porgressing.\n",
    "\n",
    "We will touch each of these points in this article. But first let's see the internal machanisms of dask briefly. Internal mechanisms are necessary to understand that dask cannot magically make every computation faster. Infact because of the overhead of adding dask, your code may actually become a little slower in certain cases. "
   ]
  },
  {
   "cell_type": "markdown",
   "metadata": {},
   "source": [
    "## Dask computation phases\n",
    "\n",
    "Each computation goes through three phases in dask:\n",
    "\n",
    "### 1) User-interface/Client:\n",
    "\n",
    "This is the user-interface part of dask. The code which we write, and the functions which we use. This generates a high-level graph where each node corresponds to roughly one operation in your code. This high-level graph is then translated to a low-level graph where one node is roughly one single task to be executed in a worker (a blueprint of the whole computation). Then this low-level graph is optimized to create a more efficient blueprint. It is serialized and passed on to the scheduler.\n",
    "\n",
    "### 2) Scheduler:\n",
    "\n",
    "The scheduler is like a supervisor which oversees all computations done. The low-level task graph is received by the scheduler, and then semi-deserialized and pushed to its internal state machine. This state machine works on-the-fly and tells every worker what tasks to compute.\n",
    "As we can expect, the scheduler engages in real-time conversation with the workers, and passes computed results, dependencies and messages between workers as needed. In the end, it receives the final output and passes it on to the client. \n",
    "\n",
    "There are four types of schedulers:\n",
    "\n",
    "1) Synchronous :- This scheduler does all computations in the local thread, with no parallelism. Useful for code debugging purposes.\n",
    "\n",
    "2) Threaded :- This scheduler uses multi-threading in a single process. The parallelism of this scheduler depends on the task at hand. If the task is pure python code, then it will essentially be synchronous because of the Global Interpretor Lock(GIL) of Python. But, if you are doing I/O operations, or using packages like numpy, pandas which release the GIL most of the times, or other non-pure python code/packages to do computation then it can go parallel. All the threads share the same memory so there is no overhead in communication.\n",
    "\n",
    "3) Multiprocessing :- This scheduler uses a process to run each task, which bypasses the GIL, and provides parallelism on pure python code. Downside is that each process has its own memory, so communicating between tasks can be expensive, as it involves serialization and deserilaization. \n",
    "\n",
    "4) Distributed :- Contrary to its name, this scheduler can also be setup locally apart from setting it up on a cluster. It can be both multithreading or multiprocessing based on the configuration provided, but is multiprocessing by default. This scheduler is the one which provides a dashboard, for debugging and profiling. And gives access to asynchronous API, notably Futures. A proper term to describe it would be an advanced scheduler rather then distributed. They have to be installed on top of dask and have their own documentation [page](https://distributed.dask.org/en/latest/)\n",
    "\n",
    "### 3) Workers:\n",
    "\n",
    "The workers themselves are the ones who do the actual computations, and pass on the results to the schedulers which they then pass on to other workers or clients. The term 'workers' explictly have been associated with only the **distributed scheduler**, as they are in the distributed documentation rather then dask documentation, but we can imagine other schedulers having a similar thing.\n",
    "\n",
    "![pipeline](dask-cluster.svg \"\")\n",
    "\n",
    "\n",
    "\n",
    "\n",
    "\n",
    "Additionally, the performance of some algorithms may differ from their in-memory couterparts due to the advantages and disadvantages of parallel programming. Some thought and attention is still required when using Dask.\n",
    "\n",
    "\n",
    "larger then memory datasets in a laptop, or distributed datasets across a cluster.\n"
   ]
  },
  {
   "cell_type": "markdown",
   "metadata": {
    "tags": []
   },
   "source": [
    "## User-Interfaces\n",
    "\n",
    "The different user-interfaces in Dask are:\n",
    "\n",
    "### High-level\n",
    "\n",
    "High-level APIs are the APIs which provide parallel and distributed capabilities to the existing pyData ecosystem tools, by providing dask versions of them. Note that it does not provide a complete API of each of these tools but only a subset. Notable ones are numpy, pandas, PyToolz and scikit-learn versions of dask. More and more libraries are also integrating with dask, like [XArray](http://xarray.pydata.org/en/stable/user-guide/dask.html) and [XGBoost](https://xgboost.readthedocs.io/en/latest/tutorials/dask.html). \n",
    "Briefly mentioning some of the notable ones here:\n",
    "\n",
    "**1) Arrays**: This implements a subset of numpy interface. It uses \"threaded\" scheduler in the background, and since numpy releases the GIL well, it is able to provide parallel computing capabilities. It is quite effective in clusters with distributed scheduler as well. For an in-depth info go to the [docs](https://docs.dask.org/en/latest/array.html).\n",
    "\n",
    "An example:\n"
   ]
  },
  {
   "cell_type": "code",
   "execution_count": 8,
   "metadata": {},
   "outputs": [],
   "source": [
    "import numpy as np #numpy\n",
    "import dask.array as da #dask subset"
   ]
  },
  {
   "cell_type": "code",
   "execution_count": 9,
   "metadata": {},
   "outputs": [
    {
     "name": "stdout",
     "output_type": "stream",
     "text": [
      "CPU times: user 9.13 s, sys: 635 ms, total: 9.76 s\n",
      "Wall time: 9.81 s\n"
     ]
    }
   ],
   "source": [
    "%%time\n",
    "x = np.random.normal(10, 0.1, size=(20000, 20000)) \n",
    "y = x.mean(axis=0)[::100] "
   ]
  },
  {
   "cell_type": "code",
   "execution_count": 12,
   "metadata": {},
   "outputs": [
    {
     "name": "stdout",
     "output_type": "stream",
     "text": [
      "CPU times: user 13.8 s, sys: 166 ms, total: 13.9 s\n",
      "Wall time: 1.35 s\n"
     ]
    }
   ],
   "source": [
    "%%time\n",
    "x = da.random.normal(10, 0.1, size=(20000, 20000), chunks=(1000, 1000))\n",
    "y = x.mean(axis=0)[::100] \n",
    "z = y.compute() "
   ]
  },
  {
   "cell_type": "markdown",
   "metadata": {},
   "source": [
    "As you can see dask provides a notable increase in time, because of parallelization. But if this dataset was too small, then dask overhead would have infact made the computation a bit slower."
   ]
  },
  {
   "cell_type": "markdown",
   "metadata": {},
   "source": [
    "**2) Dataframes**: This implements a large parallel Dataframe composed of many smaller Pandas Dataframes, and has a subset of the Pandas API. It is useful for larger-than-memory computing on a single machine, or on many different machines in a cluster. If your data can fit in your memory(RAM), then it is mostly advised to stick to Pandas unless there is some simple way to take advantage of parallelism.\n",
    "\n",
    "For an in-dpeth info, refer to [docs](https://docs.dask.org/en/latest/dataframe.html).\n"
   ]
  },
  {
   "cell_type": "markdown",
   "metadata": {},
   "source": [
    "### Low-level\n",
    "\n",
    "These APIs are useful when you want to parallelize your own custom code. Which are out of scope for the high-level APIs mentioned above. Dask provides two low-level APIs both of which we will go through briefly:\n",
    "\n",
    "**1) Delayed** :\n",
    "\n",
    "Delayed provides an interface to parallelize our custom algorithms. The default scheduler for it is `threaded`. So, behaviour of GIL should be taken into account, when expecting to see parallelization behaviour on your code.\n",
    "\n",
    "Being true to its name, it evaluates the code lazily, as we shall see in the example below. Just calling `delayed` won't execute the function call. We will have to call `compute` explicitly. Let's jump into an example to demonstrate it:"
   ]
  },
  {
   "cell_type": "code",
   "execution_count": 17,
   "metadata": {},
   "outputs": [],
   "source": [
    "from dask import delayed\n",
    "import time\n",
    "\n",
    "def inc(x):\n",
    "    time.sleep(2)\n",
    "    return x + 1\n",
    "\n",
    "def dec(x):\n",
    "    time.sleep(2)\n",
    "    return x - 1\n",
    "\n",
    "def add(x, y):\n",
    "    time.sleep(1)\n",
    "    return x + y"
   ]
  },
  {
   "cell_type": "markdown",
   "metadata": {},
   "source": [
    "Let's use these functions in a sequential way:"
   ]
  },
  {
   "cell_type": "code",
   "execution_count": 18,
   "metadata": {},
   "outputs": [
    {
     "name": "stdout",
     "output_type": "stream",
     "text": [
      "CPU times: user 833 µs, sys: 1.2 ms, total: 2.03 ms\n",
      "Wall time: 5.01 s\n"
     ]
    }
   ],
   "source": [
    "%%time\n",
    "# This takes six seconds to run as expected\n",
    "# because of the sequential nature\n",
    "\n",
    "x = inc(1)\n",
    "y = dec(2)\n",
    "z = add(x, y)"
   ]
  },
  {
   "cell_type": "markdown",
   "metadata": {},
   "source": [
    "When we use delayed:"
   ]
  },
  {
   "cell_type": "code",
   "execution_count": 20,
   "metadata": {},
   "outputs": [
    {
     "name": "stdout",
     "output_type": "stream",
     "text": [
      "CPU times: user 2.26 ms, sys: 1.67 ms, total: 3.93 ms\n",
      "Wall time: 3.01 s\n"
     ]
    }
   ],
   "source": [
    "\n",
    "%%time\n",
    "# This takes six seconds to run as expected\n",
    "# because of the sequential nature\n",
    "\n",
    "x = delayed(inc)(1)\n",
    "y = delayed(inc)(2)\n",
    "z = delayed(add)(x, y)\n",
    "t = z.compute()"
   ]
  },
  {
   "cell_type": "markdown",
   "metadata": {},
   "source": [
    "The reason delayed worked faster was because it had the oppurtunity to executed `inc` and `dec` function calls parallely.\n",
    "\n",
    "This code is also a good example to introduce the task graph visually, which dask had created for this computation."
   ]
  },
  {
   "cell_type": "code",
   "execution_count": 21,
   "metadata": {},
   "outputs": [
    {
     "data": {
      "image/png": "[encoded data removed]",
      "text/plain": [
       "<IPython.core.display.Image object>"
      ]
     },
     "execution_count": 21,
     "metadata": {},
     "output_type": "execute_result"
    }
   ],
   "source": [
    "z.visualize()"
   ]
  },
  {
   "cell_type": "markdown",
   "metadata": {},
   "source": [
    "The diagram above is that of a high-level graph. Low-level graphs will be more complicated then this."
   ]
  },
  {
   "cell_type": "markdown",
   "metadata": {},
   "source": [
    "**2) Futures**:"
   ]
  },
  {
   "cell_type": "markdown",
   "metadata": {},
   "source": [
    "All the dask interfaces we have shown above, contains a `compute()` call to actually execute the function. Futures execute immediate. It is an extension of [concurrent.futures](https://docs.python.org/3/library/concurrent.futures.html), so the syntaxes are same.\n",
    "\n",
    "Futures is part of the distributed package, so it runs on a distributed scheduler. Keep in mind that distributed schedulers use both processes by default, but handles data locality with more sophistication, and so can be more efficient than the `Multiprocessing` scheduler on workloads that require multiple processes. Setting up a distributed scheduler is more involved then other examples we have seen before. It requires you to explictly create a `Client`."
   ]
  },
  {
   "cell_type": "code",
   "execution_count": 1,
   "metadata": {},
   "outputs": [
    {
     "name": "stderr",
     "output_type": "stream",
     "text": [
      "/Users/u6533564/anaconda3/envs/coiled-mmcky-consumption-forecast/lib/python3.8/site-packages/distributed/node.py:160: UserWarning: Port 8787 is already in use.\n",
      "Perhaps you already have a cluster running?\n",
      "Hosting the HTTP server on port 63807 instead\n",
      "  warnings.warn(\n"
     ]
    }
   ],
   "source": [
    "from distributed import Client\n",
    "client = Client()"
   ]
  },
  {
   "cell_type": "markdown",
   "metadata": {},
   "source": [
    "Calling `Client` function without any argument creates a local client cluster. Each client cluster comes with a dashboard url for diagnostics. It creates workers and the number of threads created by default equal to the number of cores in your CPU. You can configure all of this.\n",
    "`Client` comes with a lot of configuration options, as mentioned in the [docs](https://docs.dask.org/en/latest/setup/single-distributed.html#distributed.deploy.local.LocalCluster)"
   ]
  },
  {
   "cell_type": "code",
   "execution_count": 2,
   "metadata": {},
   "outputs": [
    {
     "data": {
      "text/html": [
       "<div>\n",
       "    <div style=\"width: 24px; height: 24px; background-color: #e1e1e1; border: 3px solid #9D9D9D; border-radius: 5px; position: absolute;\"> </div>\n",
       "    <div style=\"margin-left: 48px;\">\n",
       "        <h3 style=\"margin-bottom: 0px;\">Client</h3>\n",
       "        <p style=\"color: #9D9D9D; margin-bottom: 0px;\">Client-3ed6ac98-2691-11ec-9fed-acde48001122</p>\n",
       "        <table style=\"width: 100%; text-align: left;\">\n",
       "\n",
       "        <tr>\n",
       "        \n",
       "            <td style=\"text-align: left;\"><strong>Connection method:</strong> Cluster object</td>\n",
       "            <td style=\"text-align: left;\"><strong>Cluster type:</strong> distributed.LocalCluster</td>\n",
       "        \n",
       "        </tr>\n",
       "\n",
       "        \n",
       "            <tr>\n",
       "                <td style=\"text-align: left;\">\n",
       "                    <strong>Dashboard: </strong> <a href=\"http://127.0.0.1:63807/status\" target=\"_blank\">http://127.0.0.1:63807/status</a>\n",
       "                </td>\n",
       "                <td style=\"text-align: left;\"></td>\n",
       "            </tr>\n",
       "        \n",
       "\n",
       "        </table>\n",
       "\n",
       "        \n",
       "            <details>\n",
       "            <summary style=\"margin-bottom: 20px;\"><h3 style=\"display: inline;\">Cluster Info</h3></summary>\n",
       "            <div class=\"jp-RenderedHTMLCommon jp-RenderedHTML jp-mod-trusted jp-OutputArea-output\">\n",
       "    <div style=\"width: 24px; height: 24px; background-color: #e1e1e1; border: 3px solid #9D9D9D; border-radius: 5px; position: absolute;\">\n",
       "    </div>\n",
       "    <div style=\"margin-left: 48px;\">\n",
       "        <h3 style=\"margin-bottom: 0px; margin-top: 0px;\">LocalCluster</h3>\n",
       "        <p style=\"color: #9D9D9D; margin-bottom: 0px;\">322d7ac8</p>\n",
       "        <table style=\"width: 100%; text-align: left;\">\n",
       "            <tr>\n",
       "                <td style=\"text-align: left;\">\n",
       "                    <strong>Dashboard:</strong> <a href=\"http://127.0.0.1:63807/status\" target=\"_blank\">http://127.0.0.1:63807/status</a>\n",
       "                </td>\n",
       "                <td style=\"text-align: left;\">\n",
       "                    <strong>Workers:</strong> 4\n",
       "                </td>\n",
       "            </tr>\n",
       "            <tr>\n",
       "                <td style=\"text-align: left;\">\n",
       "                    <strong>Total threads:</strong> 12\n",
       "                </td>\n",
       "                <td style=\"text-align: left;\">\n",
       "                    <strong>Total memory:</strong> 16.00 GiB\n",
       "                </td>\n",
       "            </tr>\n",
       "            \n",
       "            <tr>\n",
       "    <td style=\"text-align: left;\"><strong>Status:</strong> running</td>\n",
       "    <td style=\"text-align: left;\"><strong>Using processes:</strong> True</td>\n",
       "</tr>\n",
       "\n",
       "            \n",
       "        </table>\n",
       "\n",
       "        <details>\n",
       "            <summary style=\"margin-bottom: 20px;\">\n",
       "                <h3 style=\"display: inline;\">Scheduler Info</h3>\n",
       "            </summary>\n",
       "\n",
       "            <div style=\"\">\n",
       "    <div>\n",
       "        <div style=\"width: 24px; height: 24px; background-color: #FFF7E5; border: 3px solid #FF6132; border-radius: 5px; position: absolute;\"> </div>\n",
       "        <div style=\"margin-left: 48px;\">\n",
       "            <h3 style=\"margin-bottom: 0px;\">Scheduler</h3>\n",
       "            <p style=\"color: #9D9D9D; margin-bottom: 0px;\">Scheduler-270fd116-ff29-4438-b48d-b35afaa6b837</p>\n",
       "            <table style=\"width: 100%; text-align: left;\">\n",
       "                <tr>\n",
       "                    <td style=\"text-align: left;\">\n",
       "                        <strong>Comm:</strong> tcp://127.0.0.1:63808\n",
       "                    </td>\n",
       "                    <td style=\"text-align: left;\">\n",
       "                        <strong>Workers:</strong> 4\n",
       "                    </td>\n",
       "                </tr>\n",
       "                <tr>\n",
       "                    <td style=\"text-align: left;\">\n",
       "                        <strong>Dashboard:</strong> <a href=\"http://127.0.0.1:63807/status\" target=\"_blank\">http://127.0.0.1:63807/status</a>\n",
       "                    </td>\n",
       "                    <td style=\"text-align: left;\">\n",
       "                        <strong>Total threads:</strong> 12\n",
       "                    </td>\n",
       "                </tr>\n",
       "                <tr>\n",
       "                    <td style=\"text-align: left;\">\n",
       "                        <strong>Started:</strong> Just now\n",
       "                    </td>\n",
       "                    <td style=\"text-align: left;\">\n",
       "                        <strong>Total memory:</strong> 16.00 GiB\n",
       "                    </td>\n",
       "                </tr>\n",
       "            </table>\n",
       "        </div>\n",
       "    </div>\n",
       "\n",
       "    <details style=\"margin-left: 48px;\">\n",
       "        <summary style=\"margin-bottom: 20px;\">\n",
       "            <h3 style=\"display: inline;\">Workers</h3>\n",
       "        </summary>\n",
       "\n",
       "        \n",
       "        <div style=\"margin-bottom: 20px;\">\n",
       "            <div style=\"width: 24px; height: 24px; background-color: #DBF5FF; border: 3px solid #4CC9FF; border-radius: 5px; position: absolute;\"> </div>\n",
       "            <div style=\"margin-left: 48px;\">\n",
       "            <details>\n",
       "                <summary>\n",
       "                    <h4 style=\"margin-bottom: 0px; display: inline;\">Worker: 0</h4>\n",
       "                </summary>\n",
       "                <table style=\"width: 100%; text-align: left;\">\n",
       "                    <tr>\n",
       "                        <td style=\"text-align: left;\">\n",
       "                            <strong>Comm: </strong> tcp://10.158.0.6:63831\n",
       "                        </td>\n",
       "                        <td style=\"text-align: left;\">\n",
       "                            <strong>Total threads: </strong> 3\n",
       "                        </td>\n",
       "                    </tr>\n",
       "                    <tr>\n",
       "                        <td style=\"text-align: left;\">\n",
       "                            <strong>Dashboard: </strong> <a href=\"http://10.158.0.6:63833/status\" target=\"_blank\">http://10.158.0.6:63833/status</a>\n",
       "                        </td>\n",
       "                        <td style=\"text-align: left;\">\n",
       "                            <strong>Memory: </strong> 4.00 GiB\n",
       "                        </td>\n",
       "                    </tr>\n",
       "                    <tr>\n",
       "                        <td style=\"text-align: left;\">\n",
       "                            <strong>Nanny: </strong> tcp://127.0.0.1:63812\n",
       "                        </td>\n",
       "                        <td style=\"text-align: left;\"></td>\n",
       "                    </tr>\n",
       "                    <tr>\n",
       "                        <td colspan=\"2\" style=\"text-align: left;\">\n",
       "                            <strong>Local directory: </strong> /Users/u6533564/Documents/Office/consump-growth/consumption_forecast/tutorials/dask-worker-space/worker-dzb1rw6b\n",
       "                        </td>\n",
       "                    </tr>\n",
       "\n",
       "                    \n",
       "\n",
       "                    \n",
       "\n",
       "                </table>\n",
       "            </details>\n",
       "            </div>\n",
       "        </div>\n",
       "        \n",
       "        <div style=\"margin-bottom: 20px;\">\n",
       "            <div style=\"width: 24px; height: 24px; background-color: #DBF5FF; border: 3px solid #4CC9FF; border-radius: 5px; position: absolute;\"> </div>\n",
       "            <div style=\"margin-left: 48px;\">\n",
       "            <details>\n",
       "                <summary>\n",
       "                    <h4 style=\"margin-bottom: 0px; display: inline;\">Worker: 1</h4>\n",
       "                </summary>\n",
       "                <table style=\"width: 100%; text-align: left;\">\n",
       "                    <tr>\n",
       "                        <td style=\"text-align: left;\">\n",
       "                            <strong>Comm: </strong> tcp://10.158.0.6:63829\n",
       "                        </td>\n",
       "                        <td style=\"text-align: left;\">\n",
       "                            <strong>Total threads: </strong> 3\n",
       "                        </td>\n",
       "                    </tr>\n",
       "                    <tr>\n",
       "                        <td style=\"text-align: left;\">\n",
       "                            <strong>Dashboard: </strong> <a href=\"http://10.158.0.6:63832/status\" target=\"_blank\">http://10.158.0.6:63832/status</a>\n",
       "                        </td>\n",
       "                        <td style=\"text-align: left;\">\n",
       "                            <strong>Memory: </strong> 4.00 GiB\n",
       "                        </td>\n",
       "                    </tr>\n",
       "                    <tr>\n",
       "                        <td style=\"text-align: left;\">\n",
       "                            <strong>Nanny: </strong> tcp://127.0.0.1:63813\n",
       "                        </td>\n",
       "                        <td style=\"text-align: left;\"></td>\n",
       "                    </tr>\n",
       "                    <tr>\n",
       "                        <td colspan=\"2\" style=\"text-align: left;\">\n",
       "                            <strong>Local directory: </strong> /Users/u6533564/Documents/Office/consump-growth/consumption_forecast/tutorials/dask-worker-space/worker-l81jyei5\n",
       "                        </td>\n",
       "                    </tr>\n",
       "\n",
       "                    \n",
       "\n",
       "                    \n",
       "\n",
       "                </table>\n",
       "            </details>\n",
       "            </div>\n",
       "        </div>\n",
       "        \n",
       "        <div style=\"margin-bottom: 20px;\">\n",
       "            <div style=\"width: 24px; height: 24px; background-color: #DBF5FF; border: 3px solid #4CC9FF; border-radius: 5px; position: absolute;\"> </div>\n",
       "            <div style=\"margin-left: 48px;\">\n",
       "            <details>\n",
       "                <summary>\n",
       "                    <h4 style=\"margin-bottom: 0px; display: inline;\">Worker: 2</h4>\n",
       "                </summary>\n",
       "                <table style=\"width: 100%; text-align: left;\">\n",
       "                    <tr>\n",
       "                        <td style=\"text-align: left;\">\n",
       "                            <strong>Comm: </strong> tcp://10.158.0.6:63830\n",
       "                        </td>\n",
       "                        <td style=\"text-align: left;\">\n",
       "                            <strong>Total threads: </strong> 3\n",
       "                        </td>\n",
       "                    </tr>\n",
       "                    <tr>\n",
       "                        <td style=\"text-align: left;\">\n",
       "                            <strong>Dashboard: </strong> <a href=\"http://10.158.0.6:63835/status\" target=\"_blank\">http://10.158.0.6:63835/status</a>\n",
       "                        </td>\n",
       "                        <td style=\"text-align: left;\">\n",
       "                            <strong>Memory: </strong> 4.00 GiB\n",
       "                        </td>\n",
       "                    </tr>\n",
       "                    <tr>\n",
       "                        <td style=\"text-align: left;\">\n",
       "                            <strong>Nanny: </strong> tcp://127.0.0.1:63811\n",
       "                        </td>\n",
       "                        <td style=\"text-align: left;\"></td>\n",
       "                    </tr>\n",
       "                    <tr>\n",
       "                        <td colspan=\"2\" style=\"text-align: left;\">\n",
       "                            <strong>Local directory: </strong> /Users/u6533564/Documents/Office/consump-growth/consumption_forecast/tutorials/dask-worker-space/worker-2mp3xbaz\n",
       "                        </td>\n",
       "                    </tr>\n",
       "\n",
       "                    \n",
       "\n",
       "                    \n",
       "\n",
       "                </table>\n",
       "            </details>\n",
       "            </div>\n",
       "        </div>\n",
       "        \n",
       "        <div style=\"margin-bottom: 20px;\">\n",
       "            <div style=\"width: 24px; height: 24px; background-color: #DBF5FF; border: 3px solid #4CC9FF; border-radius: 5px; position: absolute;\"> </div>\n",
       "            <div style=\"margin-left: 48px;\">\n",
       "            <details>\n",
       "                <summary>\n",
       "                    <h4 style=\"margin-bottom: 0px; display: inline;\">Worker: 3</h4>\n",
       "                </summary>\n",
       "                <table style=\"width: 100%; text-align: left;\">\n",
       "                    <tr>\n",
       "                        <td style=\"text-align: left;\">\n",
       "                            <strong>Comm: </strong> tcp://10.158.0.6:63828\n",
       "                        </td>\n",
       "                        <td style=\"text-align: left;\">\n",
       "                            <strong>Total threads: </strong> 3\n",
       "                        </td>\n",
       "                    </tr>\n",
       "                    <tr>\n",
       "                        <td style=\"text-align: left;\">\n",
       "                            <strong>Dashboard: </strong> <a href=\"http://10.158.0.6:63834/status\" target=\"_blank\">http://10.158.0.6:63834/status</a>\n",
       "                        </td>\n",
       "                        <td style=\"text-align: left;\">\n",
       "                            <strong>Memory: </strong> 4.00 GiB\n",
       "                        </td>\n",
       "                    </tr>\n",
       "                    <tr>\n",
       "                        <td style=\"text-align: left;\">\n",
       "                            <strong>Nanny: </strong> tcp://127.0.0.1:63810\n",
       "                        </td>\n",
       "                        <td style=\"text-align: left;\"></td>\n",
       "                    </tr>\n",
       "                    <tr>\n",
       "                        <td colspan=\"2\" style=\"text-align: left;\">\n",
       "                            <strong>Local directory: </strong> /Users/u6533564/Documents/Office/consump-growth/consumption_forecast/tutorials/dask-worker-space/worker-5pviwtxp\n",
       "                        </td>\n",
       "                    </tr>\n",
       "\n",
       "                    \n",
       "\n",
       "                    \n",
       "\n",
       "                </table>\n",
       "            </details>\n",
       "            </div>\n",
       "        </div>\n",
       "        \n",
       "\n",
       "    </details>\n",
       "</div>\n",
       "\n",
       "        </details>\n",
       "    </div>\n",
       "</div>\n",
       "            </details>\n",
       "        \n",
       "\n",
       "    </div>\n",
       "</div>"
      ],
      "text/plain": [
       "<Client: 'tcp://127.0.0.1:63808' processes=4 threads=12, memory=16.00 GiB>"
      ]
     },
     "execution_count": 2,
     "metadata": {},
     "output_type": "execute_result"
    }
   ],
   "source": [
    "client"
   ]
  },
  {
   "cell_type": "code",
   "execution_count": 3,
   "metadata": {},
   "outputs": [],
   "source": [
    "client.close() # always good to close the client once computation is done"
   ]
  },
  {
   "cell_type": "markdown",
   "metadata": {},
   "source": [
    "If you want to run in a single process, you can pass `processes=False` keyword."
   ]
  },
  {
   "cell_type": "code",
   "execution_count": 5,
   "metadata": {},
   "outputs": [
    {
     "name": "stderr",
     "output_type": "stream",
     "text": [
      "/Users/u6533564/anaconda3/envs/coiled-mmcky-consumption-forecast/lib/python3.8/site-packages/distributed/node.py:160: UserWarning: Port 8787 is already in use.\n",
      "Perhaps you already have a cluster running?\n",
      "Hosting the HTTP server on port 51836 instead\n",
      "  warnings.warn(\n"
     ]
    },
    {
     "data": {
      "text/html": [
       "<div>\n",
       "    <div style=\"width: 24px; height: 24px; background-color: #e1e1e1; border: 3px solid #9D9D9D; border-radius: 5px; position: absolute;\"> </div>\n",
       "    <div style=\"margin-left: 48px;\">\n",
       "        <h3 style=\"margin-bottom: 0px;\">Client</h3>\n",
       "        <p style=\"color: #9D9D9D; margin-bottom: 0px;\">Client-d8466b30-2640-11ec-98ab-acde48001122</p>\n",
       "        <table style=\"width: 100%; text-align: left;\">\n",
       "\n",
       "        <tr>\n",
       "        \n",
       "            <td style=\"text-align: left;\"><strong>Connection method:</strong> Cluster object</td>\n",
       "            <td style=\"text-align: left;\"><strong>Cluster type:</strong> distributed.LocalCluster</td>\n",
       "        \n",
       "        </tr>\n",
       "\n",
       "        \n",
       "            <tr>\n",
       "                <td style=\"text-align: left;\">\n",
       "                    <strong>Dashboard: </strong> <a href=\"http://192.168.0.102:51836/status\" target=\"_blank\">http://192.168.0.102:51836/status</a>\n",
       "                </td>\n",
       "                <td style=\"text-align: left;\"></td>\n",
       "            </tr>\n",
       "        \n",
       "\n",
       "        </table>\n",
       "\n",
       "        \n",
       "            <details>\n",
       "            <summary style=\"margin-bottom: 20px;\"><h3 style=\"display: inline;\">Cluster Info</h3></summary>\n",
       "            <div class=\"jp-RenderedHTMLCommon jp-RenderedHTML jp-mod-trusted jp-OutputArea-output\">\n",
       "    <div style=\"width: 24px; height: 24px; background-color: #e1e1e1; border: 3px solid #9D9D9D; border-radius: 5px; position: absolute;\">\n",
       "    </div>\n",
       "    <div style=\"margin-left: 48px;\">\n",
       "        <h3 style=\"margin-bottom: 0px; margin-top: 0px;\">LocalCluster</h3>\n",
       "        <p style=\"color: #9D9D9D; margin-bottom: 0px;\">bd67f8d1</p>\n",
       "        <table style=\"width: 100%; text-align: left;\">\n",
       "            <tr>\n",
       "                <td style=\"text-align: left;\">\n",
       "                    <strong>Dashboard:</strong> <a href=\"http://192.168.0.102:51836/status\" target=\"_blank\">http://192.168.0.102:51836/status</a>\n",
       "                </td>\n",
       "                <td style=\"text-align: left;\">\n",
       "                    <strong>Workers:</strong> 1\n",
       "                </td>\n",
       "            </tr>\n",
       "            <tr>\n",
       "                <td style=\"text-align: left;\">\n",
       "                    <strong>Total threads:</strong> 12\n",
       "                </td>\n",
       "                <td style=\"text-align: left;\">\n",
       "                    <strong>Total memory:</strong> 16.00 GiB\n",
       "                </td>\n",
       "            </tr>\n",
       "            \n",
       "            <tr>\n",
       "    <td style=\"text-align: left;\"><strong>Status:</strong> running</td>\n",
       "    <td style=\"text-align: left;\"><strong>Using processes:</strong> False</td>\n",
       "</tr>\n",
       "\n",
       "            \n",
       "        </table>\n",
       "\n",
       "        <details>\n",
       "            <summary style=\"margin-bottom: 20px;\">\n",
       "                <h3 style=\"display: inline;\">Scheduler Info</h3>\n",
       "            </summary>\n",
       "\n",
       "            <div style=\"\">\n",
       "    <div>\n",
       "        <div style=\"width: 24px; height: 24px; background-color: #FFF7E5; border: 3px solid #FF6132; border-radius: 5px; position: absolute;\"> </div>\n",
       "        <div style=\"margin-left: 48px;\">\n",
       "            <h3 style=\"margin-bottom: 0px;\">Scheduler</h3>\n",
       "            <p style=\"color: #9D9D9D; margin-bottom: 0px;\">Scheduler-33458cad-ec46-487e-8cff-90eed48b55f4</p>\n",
       "            <table style=\"width: 100%; text-align: left;\">\n",
       "                <tr>\n",
       "                    <td style=\"text-align: left;\">\n",
       "                        <strong>Comm:</strong> inproc://192.168.0.102/6315/1\n",
       "                    </td>\n",
       "                    <td style=\"text-align: left;\">\n",
       "                        <strong>Workers:</strong> 1\n",
       "                    </td>\n",
       "                </tr>\n",
       "                <tr>\n",
       "                    <td style=\"text-align: left;\">\n",
       "                        <strong>Dashboard:</strong> <a href=\"http://192.168.0.102:51836/status\" target=\"_blank\">http://192.168.0.102:51836/status</a>\n",
       "                    </td>\n",
       "                    <td style=\"text-align: left;\">\n",
       "                        <strong>Total threads:</strong> 12\n",
       "                    </td>\n",
       "                </tr>\n",
       "                <tr>\n",
       "                    <td style=\"text-align: left;\">\n",
       "                        <strong>Started:</strong> Just now\n",
       "                    </td>\n",
       "                    <td style=\"text-align: left;\">\n",
       "                        <strong>Total memory:</strong> 16.00 GiB\n",
       "                    </td>\n",
       "                </tr>\n",
       "            </table>\n",
       "        </div>\n",
       "    </div>\n",
       "\n",
       "    <details style=\"margin-left: 48px;\">\n",
       "        <summary style=\"margin-bottom: 20px;\">\n",
       "            <h3 style=\"display: inline;\">Workers</h3>\n",
       "        </summary>\n",
       "\n",
       "        \n",
       "        <div style=\"margin-bottom: 20px;\">\n",
       "            <div style=\"width: 24px; height: 24px; background-color: #DBF5FF; border: 3px solid #4CC9FF; border-radius: 5px; position: absolute;\"> </div>\n",
       "            <div style=\"margin-left: 48px;\">\n",
       "            <details>\n",
       "                <summary>\n",
       "                    <h4 style=\"margin-bottom: 0px; display: inline;\">Worker: 0</h4>\n",
       "                </summary>\n",
       "                <table style=\"width: 100%; text-align: left;\">\n",
       "                    <tr>\n",
       "                        <td style=\"text-align: left;\">\n",
       "                            <strong>Comm: </strong> inproc://192.168.0.102/6315/3\n",
       "                        </td>\n",
       "                        <td style=\"text-align: left;\">\n",
       "                            <strong>Total threads: </strong> 12\n",
       "                        </td>\n",
       "                    </tr>\n",
       "                    <tr>\n",
       "                        <td style=\"text-align: left;\">\n",
       "                            <strong>Dashboard: </strong> <a href=\"http://192.168.0.102:51837/status\" target=\"_blank\">http://192.168.0.102:51837/status</a>\n",
       "                        </td>\n",
       "                        <td style=\"text-align: left;\">\n",
       "                            <strong>Memory: </strong> 16.00 GiB\n",
       "                        </td>\n",
       "                    </tr>\n",
       "                    <tr>\n",
       "                        <td style=\"text-align: left;\">\n",
       "                            <strong>Nanny: </strong> None\n",
       "                        </td>\n",
       "                        <td style=\"text-align: left;\"></td>\n",
       "                    </tr>\n",
       "                    <tr>\n",
       "                        <td colspan=\"2\" style=\"text-align: left;\">\n",
       "                            <strong>Local directory: </strong> /Users/u6533564/Documents/Office/consump-growth/consumption_forecast/tutorials/dask-worker-space/worker-ff_4b8ry\n",
       "                        </td>\n",
       "                    </tr>\n",
       "\n",
       "                    \n",
       "\n",
       "                    \n",
       "\n",
       "                </table>\n",
       "            </details>\n",
       "            </div>\n",
       "        </div>\n",
       "        \n",
       "\n",
       "    </details>\n",
       "</div>\n",
       "\n",
       "        </details>\n",
       "    </div>\n",
       "</div>\n",
       "            </details>\n",
       "        \n",
       "\n",
       "    </div>\n",
       "</div>"
      ],
      "text/plain": [
       "<Client: 'inproc://192.168.0.102/6315/1' processes=1 threads=12, memory=16.00 GiB>"
      ]
     },
     "execution_count": 5,
     "metadata": {},
     "output_type": "execute_result"
    }
   ],
   "source": [
    "client2 = Client(processes=False)\n",
    "client2"
   ]
  },
  {
   "cell_type": "code",
   "execution_count": 6,
   "metadata": {},
   "outputs": [],
   "source": [
    "client2.close()"
   ]
  },
  {
   "cell_type": "markdown",
   "metadata": {},
   "source": [
    "This can be the preferred method if your computations don't hold on to the GIL, or when your inter-worker communication overhead is quite substanial, for example, large chunks of data are being passed around. "
   ]
  },
  {
   "cell_type": "markdown",
   "metadata": {},
   "source": [
    "**An important point** to note is that, when you use the `Client` call in your program, all subsequent code use the distributed scheduler by default and execution will happen in the cluster you had specified in client. So, all the high-level APIs, delayed, specified after this function call will use distributed as their scheduler unless otherwise explicitly specified. "
   ]
  },
  {
   "cell_type": "markdown",
   "metadata": {},
   "source": [
    "A code example, to demonstrate `futures` syntax:"
   ]
  },
  {
   "cell_type": "code",
   "execution_count": 12,
   "metadata": {},
   "outputs": [
    {
     "name": "stderr",
     "output_type": "stream",
     "text": [
      "/Users/u6533564/anaconda3/envs/coiled-mmcky-consumption-forecast/lib/python3.8/site-packages/distributed/node.py:160: UserWarning: Port 8787 is already in use.\n",
      "Perhaps you already have a cluster running?\n",
      "Hosting the HTTP server on port 55375 instead\n",
      "  warnings.warn(\n"
     ]
    }
   ],
   "source": [
    "client = Client()"
   ]
  },
  {
   "cell_type": "code",
   "execution_count": 13,
   "metadata": {},
   "outputs": [],
   "source": [
    "import time\n",
    "\n",
    "def incr(x):\n",
    "    time.sleep(2)\n",
    "    return x + 1\n",
    "\n",
    "def decr(x):\n",
    "    time.sleep(2)\n",
    "    return x - 1\n",
    "\n",
    "def addition(x, y):\n",
    "    time.sleep(1)\n",
    "    return x + y"
   ]
  },
  {
   "cell_type": "code",
   "execution_count": 14,
   "metadata": {},
   "outputs": [
    {
     "name": "stdout",
     "output_type": "stream",
     "text": [
      "CPU times: user 293 ms, sys: 72.3 ms, total: 365 ms\n",
      "Wall time: 3.04 s\n"
     ]
    },
    {
     "data": {
      "text/plain": [
       "3"
      ]
     },
     "execution_count": 14,
     "metadata": {},
     "output_type": "execute_result"
    }
   ],
   "source": [
    "%%time\n",
    "# This takes six seconds to run as expected\n",
    "# because of the sequential nature\n",
    "\n",
    "x = client.submit(incr, 1)\n",
    "y = client.submit(decr, 2)\n",
    "z = client.submit(addition, x, y)\n",
    "z.result()"
   ]
  },
  {
   "cell_type": "code",
   "execution_count": 16,
   "metadata": {},
   "outputs": [],
   "source": [
    "client.close()"
   ]
  },
  {
   "cell_type": "markdown",
   "metadata": {},
   "source": [
    "While introducing `futures`, we also introduced distributed scheduler with a local cluster. A truly distributed scheduler with a remote cluster will be discussed in the coiled tutorial."
   ]
  },
  {
   "cell_type": "code",
   "execution_count": null,
   "metadata": {},
   "outputs": [],
   "source": []
  }
 ],
 "metadata": {
  "kernelspec": {
   "display_name": "Python 3",
   "language": "python",
   "name": "python3"
  },
  "language_info": {
   "codemirror_mode": {
    "name": "ipython",
    "version": 3
   },
   "file_extension": ".py",
   "mimetype": "text/x-python",
   "name": "python",
   "nbconvert_exporter": "python",
   "pygments_lexer": "ipython3",
   "version": "3.8.3"
  }
 },
 "nbformat": 4,
 "nbformat_minor": 5
}
