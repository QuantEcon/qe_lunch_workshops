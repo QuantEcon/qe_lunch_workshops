{
  "cells": [
    {
      "cell_type": "markdown",
      "metadata": {
        "id": "SxtwqY0qbplc"
      },
      "source": [
        "## Arellano (2008)\n",
        "\n",
        "Model equations: \n",
        "\n",
        "\\begin{eqnarray}\n",
        "v^{d}&=&u\\left(y^{\\mathrm{def}}\\right)+\\beta\\mathbb{E}\\left[\\theta v^{o}\\left(0,y'\\right)+\\left(1-\\theta\\right)v^{d}\\left(y'\\right)\\right]\\\\v^{c}&=&\\max_{B'}\\left\\{ u\\left(y-q\\left(B',y\\right)B'+B\\right)+\\beta\\mathbb{E}\\left[v^{o}\\left(B',y'\\right)\\right]\\right\\} \\\\v^{o}\\left(B,y\\right)&=&\\max\\left\\{ v^{c}\\left(B,y\\right),v^{d}\\left(y\\right)\\right\\} \\\\q\\left(B',y\\right)&=&\\frac{1-\\delta\\left(B',y\\right)}{1+r}\\\\u\\left(c\\right)&=&\\frac{c^{1-\\sigma}}{1-\\sigma}\n",
        "\\end{eqnarray}"
      ]
    },
    {
      "cell_type": "code",
      "execution_count": null,
      "metadata": {
        "id": "qDxNX23_bplj"
      },
      "outputs": [],
      "source": [
        "# !pip install --upgrade pip\n",
        "# # Installs the wheel compatible with CUDA 11 and cuDNN 8.2 or newer.\n",
        "# !pip install --upgrade \"jax[cuda]\" -f https://storage.googleapis.com/jax-releases/jax_releases.html --user\n",
        "# !pip install --upgrade quantecon --user\n",
        "# !pip install --upgrade memory_profiler --user\n",
        "# !pip install --upgrade line_profiler --user"
      ]
    },
    {
      "cell_type": "code",
      "source": [
        "!pip install quantecon"
      ],
      "metadata": {
        "colab": {
          "base_uri": "https://localhost:8080/"
        },
        "id": "SCHQ9844cVaW",
        "outputId": "0cc42903-0391-4740-a9ea-cc568ca4de2d"
      },
      "execution_count": null,
      "outputs": [
        {
          "output_type": "stream",
          "name": "stdout",
          "text": [
            "Collecting quantecon\n",
            "  Downloading quantecon-0.5.2-py3-none-any.whl (269 kB)\n",
            "\u001b[K     |████████████████████████████████| 269 kB 3.2 MB/s \n",
            "\u001b[?25hRequirement already satisfied: numpy in /usr/local/lib/python3.7/dist-packages (from quantecon) (1.21.5)\n",
            "Requirement already satisfied: sympy in /usr/local/lib/python3.7/dist-packages (from quantecon) (1.7.1)\n",
            "Requirement already satisfied: requests in /usr/local/lib/python3.7/dist-packages (from quantecon) (2.23.0)\n",
            "Requirement already satisfied: scipy>=1.0.0 in /usr/local/lib/python3.7/dist-packages (from quantecon) (1.4.1)\n",
            "Requirement already satisfied: numba>=0.38 in /usr/local/lib/python3.7/dist-packages (from quantecon) (0.51.2)\n",
            "Requirement already satisfied: llvmlite<0.35,>=0.34.0.dev0 in /usr/local/lib/python3.7/dist-packages (from numba>=0.38->quantecon) (0.34.0)\n",
            "Requirement already satisfied: setuptools in /usr/local/lib/python3.7/dist-packages (from numba>=0.38->quantecon) (57.4.0)\n",
            "Requirement already satisfied: urllib3!=1.25.0,!=1.25.1,<1.26,>=1.21.1 in /usr/local/lib/python3.7/dist-packages (from requests->quantecon) (1.24.3)\n",
            "Requirement already satisfied: chardet<4,>=3.0.2 in /usr/local/lib/python3.7/dist-packages (from requests->quantecon) (3.0.4)\n",
            "Requirement already satisfied: certifi>=2017.4.17 in /usr/local/lib/python3.7/dist-packages (from requests->quantecon) (2021.10.8)\n",
            "Requirement already satisfied: idna<3,>=2.5 in /usr/local/lib/python3.7/dist-packages (from requests->quantecon) (2.10)\n",
            "Requirement already satisfied: mpmath>=0.19 in /usr/local/lib/python3.7/dist-packages (from sympy->quantecon) (1.2.1)\n",
            "Installing collected packages: quantecon\n",
            "Successfully installed quantecon-0.5.2\n"
          ]
        }
      ]
    },
    {
      "cell_type": "markdown",
      "metadata": {
        "id": "BEKV1Junbplu"
      },
      "source": [
        "### \"One-loop\" Algorithm"
      ]
    },
    {
      "cell_type": "code",
      "execution_count": null,
      "metadata": {
        "id": "EcnVUIJSbplv"
      },
      "outputs": [],
      "source": [
        "# Model Parameters\n",
        "β = .95282\n",
        "σ = 2.\n",
        "r = 0.017\n",
        "θ = 0.282\n",
        "ρ = 0.945\n",
        "η = 0.025\n",
        "y_hat = 0.969"
      ]
    },
    {
      "cell_type": "code",
      "execution_count": null,
      "metadata": {
        "id": "CZcA6lfvbply"
      },
      "outputs": [],
      "source": [
        "# Numerical Parameters\n",
        "n_B = 200\n",
        "n_y = 256\n",
        "max_iter = int(1e5)\n",
        "tol = 1e-12"
      ]
    },
    {
      "cell_type": "code",
      "execution_count": null,
      "metadata": {
        "id": "6aQZtuMGbplz",
        "outputId": "030a915d-c0d1-49f6-c771-5ef554fe09f9"
      },
      "outputs": [
        {
          "name": "stderr",
          "output_type": "stream",
          "text": [
            "WARNING:absl:No GPU/TPU found, falling back to CPU. (Set TF_CPP_MIN_LOG_LEVEL=0 and rerun for more info.)\n"
          ]
        }
      ],
      "source": [
        "# Construct Markov chain\n",
        "mc = tauchen(ρ, η, 0.0, 3, n_y)\n",
        "log_y_grid, P_y = mc.state_values, mc.P\n",
        "log_y_grid_onp = onp.array(log_y_grid)\n",
        "\n",
        "# Construct grids\n",
        "y_grid = jnp.exp(log_y_grid)\n",
        "# B_grid = jnp.linspace(-.33, .15, n_B)\n",
        "B_grid_onp = onp.linspace(-.33, .15, n_B)\n",
        "zero_ind = int(jnp.searchsorted(B_grid_onp, 1e-12))\n",
        "B_grid_onp[zero_ind] = 0.0\n",
        "B_grid = jnp.array(B_grid_onp)\n",
        "\n",
        "# ymean = jnp.mean(y_grid)\n",
        "def_y = jnp.minimum(y_hat, y_grid)  # CHANGED HERE!\n",
        "def_y_onp = onp.array(def_y)\n",
        "\n",
        "V_d = jnp.zeros([n_y, 1])\n",
        "V_c = jnp.zeros((n_y, n_B))\n",
        "V = jnp.zeros((n_y, n_B))\n",
        "Q = jnp.ones((n_y, n_B)) * .95\n",
        "\n",
        "y = jnp.reshape(y_grid, [-1, 1, 1])\n",
        "B = jnp.reshape(B_grid, [1, -1, 1])\n",
        "B_next = jnp.reshape(B_grid, [1, 1, -1])\n",
        "y_p_B = y + B"
      ]
    },
    {
      "cell_type": "code",
      "execution_count": null,
      "metadata": {
        "id": "JDNj-03Sbpl4"
      },
      "outputs": [],
      "source": [
        "# Utility function\n",
        "def u(c):\n",
        "    return c ** (1 - σ) / (1 - σ)\n",
        "\n",
        "\n",
        "u_def_y = u(def_y)"
      ]
    },
    {
      "cell_type": "code",
      "execution_count": null,
      "metadata": {
        "id": "4XHK5x77bpl7"
      },
      "outputs": [],
      "source": [
        "# Bellman operator\n",
        "def T(V, V_c, V_d, Q):\n",
        "    # Compute expectations\n",
        "    EV = P_y @ V\n",
        "    EV_d = P_y @ V_d\n",
        "\n",
        "    # Compute value with default\n",
        "    V_d_target = u_def_y + β * (θ * EV[:, zero_ind] + (1 - θ) * EV_d[:, 0])  # CHANGED HERE!\n",
        "    V_d_target = jnp.reshape(V_d_target, [-1, 1])\n",
        "    V_d = V_d_target\n",
        "\n",
        "    # Compute value without default\n",
        "    Q_rsh = jnp.reshape(Q, [n_y, 1, n_B])\n",
        "    c = jnp.maximum(y_p_B - Q_rsh * B_next, 1e-16)\n",
        "    EV = jnp.expand_dims(EV, axis=1)\n",
        "    m = u(c) + β * EV\n",
        "    idx_B = jnp.argmax(m, axis=2)\n",
        "    V_c = jnp.max(m, axis=2)\n",
        "\n",
        "    # Compute price function\n",
        "    default_states = V_d > V_c\n",
        "    default_prob = P_y @ default_states\n",
        "    Q_new = (1 - default_prob) / (1 + r)\n",
        "\n",
        "    # Compute value function\n",
        "    V_new = jnp.maximum(V_c, V_d)\n",
        "\n",
        "    return V_new, V_c, V_d, Q_new, idx_B"
      ]
    },
    {
      "cell_type": "code",
      "execution_count": null,
      "metadata": {
        "id": "ZCLX42Qxbpl_",
        "outputId": "797ffb3e-fe9a-499b-ad18-9fba1ec9c963"
      },
      "outputs": [
        {
          "name": "stdout",
          "output_type": "stream",
          "text": [
            "CPU times: user 788 ms, sys: 199 ms, total: 987 ms\n",
            "Wall time: 720 ms\n"
          ]
        }
      ],
      "source": [
        "%%time\n",
        "_ = T(V, V_c, V_d, Q);"
      ]
    },
    {
      "cell_type": "code",
      "execution_count": null,
      "metadata": {
        "id": "vw2WhvHcbpmB",
        "outputId": "77e08a78-1a3f-4152-f850-2c8ed45c52c8"
      },
      "outputs": [
        {
          "name": "stdout",
          "output_type": "stream",
          "text": [
            "Timer unit: 1e-06 s\n",
            "\n",
            "Total time: 0.1758 s\n",
            "File: <ipython-input-7-ac5f48c0facd>\n",
            "Function: T at line 2\n",
            "\n",
            "Line #      Hits         Time  Per Hit   % Time  Line Contents\n",
            "==============================================================\n",
            "     2                                           def T(V, V_c, V_d, Q):\n",
            "     3                                               # Compute expectations\n",
            "     4         1        817.0    817.0      0.5      EV = P_y @ V\n",
            "     5         1         70.0     70.0      0.0      EV_d = P_y @ V_d\n",
            "     6                                           \n",
            "     7                                               # Compute value with default\n",
            "     8         1       3869.0   3869.0      2.2      V_d_target = u_def_y + β * (θ * EV[:, zero_ind] + (1 - θ) * EV_d[:, 0])  # CHANGED HERE!\n",
            "     9         1        211.0    211.0      0.1      V_d_target = jnp.reshape(V_d_target, [-1, 1])\n",
            "    10         1          1.0      1.0      0.0      V_d = V_d_target\n",
            "    11                                           \n",
            "    12                                               # Compute value without default\n",
            "    13         1        180.0    180.0      0.1      Q_rsh = jnp.reshape(Q, [n_y, 1, n_B])\n",
            "    14         1      25607.0  25607.0     14.6      c = jnp.maximum(y_p_B - Q_rsh * B_next, 1e-16)\n",
            "    15         1        514.0    514.0      0.3      EV = jnp.expand_dims(EV, axis=1)\n",
            "    16         1     116052.0 116052.0     66.0      m = u(c) + β * EV\n",
            "    17         1      18923.0  18923.0     10.8      idx_B = jnp.argmax(m, axis=2)\n",
            "    18         1       8201.0   8201.0      4.7      V_c = jnp.max(m, axis=2)\n",
            "    19                                           \n",
            "    20                                               # Compute price function\n",
            "    21         1        444.0    444.0      0.3      default_states = V_d > V_c\n",
            "    22         1        614.0    614.0      0.3      default_prob = P_y @ default_states\n",
            "    23         1        257.0    257.0      0.1      Q_new = (1 - default_prob) / (1 + r)\n",
            "    24                                           \n",
            "    25                                               # Compute value function\n",
            "    26         1         40.0     40.0      0.0      V_new = jnp.maximum(V_c, V_d)\n",
            "    27                                           \n",
            "    28         1          0.0      0.0      0.0      return V_new, V_c, V_d, Q_new, idx_B\n",
            "\n"
          ]
        }
      ],
      "source": [
        "from line_profiler import LineProfiler\n",
        "\n",
        "lprofiler = LineProfiler()\n",
        "\n",
        "lp_wrapper = lprofiler(T)\n",
        "\n",
        "lp_wrapper(V, V_c, V_d, Q);\n",
        "\n",
        "lprofiler.print_stats()"
      ]
    },
    {
      "cell_type": "code",
      "execution_count": null,
      "metadata": {
        "id": "fguU3eVKbpmD"
      },
      "outputs": [],
      "source": [
        "# JIT Bellman operator\n",
        "T = jax.jit(T)"
      ]
    },
    {
      "cell_type": "code",
      "execution_count": null,
      "metadata": {
        "id": "2rrAkI65bpmE"
      },
      "outputs": [],
      "source": [
        "# Compile Bellman operator\n",
        "T(V, V_c, V_d, Q);"
      ]
    },
    {
      "cell_type": "code",
      "execution_count": null,
      "metadata": {
        "id": "G87gUzn1bpmF",
        "outputId": "c5ad99ee-73c6-4e9f-adc7-6ee43cac8e9d"
      },
      "outputs": [
        {
          "name": "stdout",
          "output_type": "stream",
          "text": [
            "peak memory: 383.45 MiB, increment: 158.07 MiB\n"
          ]
        }
      ],
      "source": [
        "# Check memory usage\n",
        "\n",
        "%memit T(V, V_c, V_d, Q)"
      ]
    },
    {
      "cell_type": "code",
      "execution_count": null,
      "metadata": {
        "id": "RXJR0m3IbpmG"
      },
      "outputs": [],
      "source": [
        "# Value function iteration\n",
        "def VFI(V, V_c, V_d, Q):\n",
        "    for iteration in range(max_iter):\n",
        "        V_new, V_c, V_d, Q_new, idx_B = T(V, V_c, V_d, Q)\n",
        "\n",
        "        diff = jnp.maximum(jnp.linalg.norm(V_new - V), jnp.linalg.norm(Q_new - Q))\n",
        "        if iteration % 100 == 0:\n",
        "            print(diff)\n",
        "\n",
        "        V = V_new\n",
        "        Q = Q_new\n",
        "        if diff < tol:\n",
        "            break\n",
        "\n",
        "    return V, V_c, V_d, Q, idx_B\n"
      ]
    },
    {
      "cell_type": "code",
      "execution_count": null,
      "metadata": {
        "id": "PxcGuiCnbpmI",
        "outputId": "4b8d10d1-9d1e-4360-b34e-c07164f433e8"
      },
      "outputs": [
        {
          "name": "stdout",
          "output_type": "stream",
          "text": [
            "190.82527952745235\n",
            "1.8374465790148016\n",
            "0.014631912841461326\n",
            "0.00011651653489471627\n",
            "9.278419798672343e-07\n",
            "7.388550823900952e-09\n",
            "5.888617499764322e-11\n",
            "CPU times: user 1min, sys: 55.4 s, total: 1min 55s\n",
            "Wall time: 51.8 s\n"
          ]
        }
      ],
      "source": [
        "%%time\n",
        "V, V_c, V_d, Q, idx_B = map(onp.array, VFI(V, V_c, V_d, Q))"
      ]
    },
    {
      "cell_type": "code",
      "execution_count": null,
      "metadata": {
        "id": "FYBL5hq7bpmJ",
        "outputId": "6411bddc-b82c-4920-d874-36df6557e847"
      },
      "outputs": [
        {
          "data": {
            "image/png": "[encoded data removed]",
            "text/plain": [
              "<Figure size 1152x576 with 3 Axes>"
            ]
          },
          "metadata": {
            "needs_background": "light"
          },
          "output_type": "display_data"
        }
      ],
      "source": [
        "default_states = V_d > V_c\n",
        "B_grid_onp = onp.array(B_grid)\n",
        "log_y_grid_onp = onp.array(log_y_grid)\n",
        "\n",
        "fig, ax = plt.subplots(1, 3, figsize=(16, 8))\n",
        "\n",
        "plt.subplot(1, 3, 1)\n",
        "plt.contour(B_grid_onp, onp.array(y_grid), default_states * 1.)\n",
        "\n",
        "# plt.subplot(1, 3, 2)\n",
        "# B_next = B_grid_onp[idx_B]\n",
        "# idx = onp.argmin(onp.abs(B_grid_onp + 0.1))\n",
        "# plt.plot(log_y_grid_onp, B_next[:, idx])\n",
        "\n",
        "plt.subplot(1, 3, 3)\n",
        "plt.plot(log_y_grid_onp, Q[:, 21])\n",
        "plt.plot(log_y_grid_onp, Q[:, 31])\n",
        "plt.plot(log_y_grid_onp, Q[:, 41]);"
      ]
    }
  ],
  "metadata": {
    "kernelspec": {
      "display_name": "Python 3",
      "language": "python",
      "name": "python3"
    },
    "language_info": {
      "codemirror_mode": {
        "name": "ipython",
        "version": 3
      },
      "file_extension": ".py",
      "mimetype": "text/x-python",
      "name": "python",
      "nbconvert_exporter": "python",
      "pygments_lexer": "ipython3",
      "version": "3.7.6"
    },
    "colab": {
      "name": "arellano_jax.ipynb",
      "provenance": []
    }
  },
  "nbformat": 4,
  "nbformat_minor": 0
}