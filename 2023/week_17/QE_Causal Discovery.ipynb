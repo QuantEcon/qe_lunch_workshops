{
 "cells": [
  {
   "cell_type": "markdown",
   "metadata": {
    "id": "_2kUEArQRHVz",
    "slideshow": {
     "slide_type": "slide"
    }
   },
   "source": [
    "# Constraint-Based Causal Discovery in Python\n",
    "\n",
    "\n",
    "\n",
    "### Nikolai Chow"
   ]
  },
  {
   "cell_type": "markdown",
   "metadata": {
    "id": "Fy5dM42ox9aG",
    "slideshow": {
     "slide_type": "slide"
    }
   },
   "source": [
    "### Overview\n",
    "\n",
    "1. What is causal discovery and why we need it?\n",
    "\n",
    "\n",
    "2. Some concepts related to constraint-based Causal Discovery\n",
    "\n",
    "\n",
    "3. PC algorithm and illustrations with Python\n",
    "\n",
    "\n",
    "4. Comments from Nobel Prize winner Guido Imbens"
   ]
  },
  {
   "cell_type": "markdown",
   "metadata": {
    "id": "P4jOo5SS31Ez",
    "slideshow": {
     "slide_type": "slide"
    }
   },
   "source": [
    "### Causal Discovery\n",
    "\n",
    "- A wide range of methods for extracting causal relationships from data\n",
    "\n",
    "\n",
    "- Unravels the underlying causal structure of the process that generates the data\n",
    "\n",
    "\n",
    "- Can be used with observational or interventional data\n",
    "\n",
    "\n",
    "- We focus on those that assume data generating process can be represnted by a directed acyclic graph (DAG)"
   ]
  },
  {
   "cell_type": "markdown",
   "metadata": {
    "id": "Rtq_YR6a_71O",
    "slideshow": {
     "slide_type": "slide"
    }
   },
   "source": [
    "### Why pure theory is not good enough?\n",
    "\n",
    "Case 1: You don't have a theory\n",
    "\n",
    "Case 2: You do have a theory but the theory is too complicated and hard to be verified \n",
    "\n",
    "Case 3: Building a theory requires too much time (Abandon the whole thing if it is not good?)"
   ]
  },
  {
   "cell_type": "markdown",
   "metadata": {
    "slideshow": {
     "slide_type": "slide"
    }
   },
   "source": [
    "### Causal Discovery in biology\n",
    "\n",
    "Maathuis, M. H., Colombo, D., Kalisch, M., & Bühlmann, P. (2010). Predicting causal effects in large-scale systems from observational data. Nature methods, 7(4), 247-248.\n",
    "\n",
    "Triantafillou, S., Lagani, V., Heinze-Deml, C., Schmidt, A., Tegner, J., & Tsamardinos, I. (2017). Predicting causal relationships from biological data: Applying automated causal discovery on mass cytometry data of human immune cells. Scientific reports, 7(1), 12724."
   ]
  },
  {
   "cell_type": "markdown",
   "metadata": {
    "id": "4N7gf1cr_71R",
    "slideshow": {
     "slide_type": "slide"
    }
   },
   "source": [
    "### The Families of Causal Discovery Methods\n",
    "\n",
    "1. Constraint-based (independence-based methods)\n",
    "2. Score-based\n",
    "3. Others"
   ]
  },
  {
   "cell_type": "markdown",
   "metadata": {
    "slideshow": {
     "slide_type": "slide"
    }
   },
   "source": [
    "### Constraint-Based Causal Discovery\n",
    "\n",
    "\n",
    "Under certain circumstances we can perform a mapping between the graphical structure representing the data generating process and statistical properties of the variables that are the outcome of this process. \n",
    "\n",
    "#### Example\n",
    "- Peter-Clark algorithm (PC-Algorithm)\n",
    "- Fast Causal Inference (FCI-Algorithm)"
   ]
  },
  {
   "cell_type": "markdown",
   "metadata": {
    "id": "CrgLS_gm_71R",
    "slideshow": {
     "slide_type": "slide"
    }
   },
   "source": [
    "### Independence struture between variables\n",
    "\n"
   ]
  },
  {
   "cell_type": "markdown",
   "metadata": {
    "id": "mQPCcp6i_71S",
    "slideshow": {
     "slide_type": "slide"
    }
   },
   "source": [
    "### Chain\n",
    "\n",
    "<br>\n",
    "\n",
    "<img src=\"https://drive.google.com/uc?export=view&id=1VznBSOgBxWkscIi82jdxwZF8BNoxiKbU\" width=\"500\" height=\"400\" alt=\"Image Description\">\n"
   ]
  },
  {
   "cell_type": "markdown",
   "metadata": {
    "slideshow": {
     "slide_type": "slide"
    }
   },
   "source": [
    "<img src=\"https://drive.google.com/uc?export=view&id=1W4JgYwaJkVwHsjGkEHU9ByeayscWvq-4\" width=\"800\" height=\"600\" alt=\"Image Description\">\n"
   ]
  },
  {
   "cell_type": "markdown",
   "metadata": {
    "id": "pelBJPhx_71S",
    "slideshow": {
     "slide_type": "slide"
    }
   },
   "source": [
    "### Fork\n",
    "\n",
    "<br>\n",
    "\n",
    "<img src=\"https://drive.google.com/uc?export=view&id=1WWNJUbo9EMx9pbusABjsEonDfjyQHCm5\" width=\"500\" height=\"400\" alt=\"Image Description\">\n"
   ]
  },
  {
   "cell_type": "markdown",
   "metadata": {
    "slideshow": {
     "slide_type": "slide"
    }
   },
   "source": [
    "<img src=\"https://drive.google.com/uc?export=view&id=1WagbOid2WFXkEmjh_JtdqewKz9X4oBxj\" width=\"800\" height=\"600\" alt=\"Image Description\">\n"
   ]
  },
  {
   "cell_type": "markdown",
   "metadata": {
    "id": "1k2Xgvib_71T",
    "slideshow": {
     "slide_type": "slide"
    }
   },
   "source": [
    "### Collider\n",
    "\n",
    "<br>\n",
    "\n",
    "<img src=\"https://drive.google.com/uc?export=view&id=1WayZ3xTtgHf30aNN1T71y3CwTGLO_UMZ\" width=\"500\" height=\"400\" alt=\"Image Description\">\n"
   ]
  },
  {
   "cell_type": "markdown",
   "metadata": {
    "slideshow": {
     "slide_type": "slide"
    }
   },
   "source": [
    "<img src=\"https://drive.google.com/uc?export=view&id=1WcbSrZxH-JiGd0GXK7UjnA6ZAwcQXQjf\" width=\"1000\" height=\"800\" alt=\"Image Description\">\n",
    "\n"
   ]
  },
  {
   "cell_type": "markdown",
   "metadata": {
    "id": "JCNV2sHr-cKN",
    "slideshow": {
     "slide_type": "slide"
    }
   },
   "source": [
    "#### Definition (d-Separation)\n",
    "\n",
    "\n",
    "A path p is said to be blocked by a set of nodes Z if and only if\n",
    "\n",
    "\n",
    "1. p contains a chain i $\\rightarrow$ m $\\rightarrow$ j or a fork i $\\leftarrow$ m $\\rightarrow$ j such that the middle node m is in Z, or\n",
    "\n",
    "\n",
    "2. p contains an inverted fork (or collider) i $\\rightarrow$ m $\\leftarrow$ j such that the middle node\n",
    "m is not in Z and such that no descendant of m is in Z."
   ]
  },
  {
   "cell_type": "markdown",
   "metadata": {
    "slideshow": {
     "slide_type": "subslide"
    }
   },
   "source": [
    "If Z blocks every path between two nodes i and j, then i and j are <b>d-separated</b>, conditional on Z, and thus independent conditional on Z."
   ]
  },
  {
   "cell_type": "markdown",
   "metadata": {
    "id": "QCtTkOs5_71T",
    "slideshow": {
     "slide_type": "slide"
    }
   },
   "source": [
    "### Peter-Clark algorithm (PC-Algorithm)\n",
    "\n",
    "- Proposed by Spirtes et al. (2000) is a popular method for causal discovery that uses conditional independence tests and graph theory to infer causal relationships."
   ]
  },
  {
   "cell_type": "markdown",
   "metadata": {
    "slideshow": {
     "slide_type": "slide"
    }
   },
   "source": [
    "#### Finding skeleton\n",
    "\n",
    "The skeleton of a DAG G is the undirected graph obtained from G after remove all the edges based on conditional dependence tests."
   ]
  },
  {
   "cell_type": "markdown",
   "metadata": {
    "slideshow": {
     "slide_type": "slide"
    }
   },
   "source": [
    "<img src=\"https://drive.google.com/uc?export=view&id=1XGS_U7T7gL5QAkjQikzw9NeB_5NFw4wV\" width=\"800\" height=\"450\" alt=\"Image Description\">\n"
   ]
  },
  {
   "cell_type": "markdown",
   "metadata": {
    "slideshow": {
     "slide_type": "slide"
    }
   },
   "source": [
    "#### Extending the skeleton to completed partially directed acyclic graph (CPDAG)\n",
    "\n",
    "PDAG for short, is a graph that contains both directed and undirected edges. It is acyclic in the sense that it contains no directed cycles.\n",
    "\n",
    "1. Every directed edge exists also in every DAG belonging to the equivalence class of the DAG and \n",
    "2. For every undirected edge i− j there exists a DAG with i → j and a DAG with i ← j in the equivalence class."
   ]
  },
  {
   "cell_type": "markdown",
   "metadata": {
    "slideshow": {
     "slide_type": "slide"
    }
   },
   "source": [
    "<img src=\"https://drive.google.com/uc?export=view&id=1XIcmyIJtIM6_SuBCt1letwAKTDe8TeTx\" width=\"700\" height=\"350\" alt=\"Image Description\">\n"
   ]
  },
  {
   "cell_type": "markdown",
   "metadata": {
    "slideshow": {
     "slide_type": "slide"
    }
   },
   "source": [
    "### Illustrations with Python"
   ]
  },
  {
   "cell_type": "code",
   "execution_count": 1,
   "metadata": {
    "colab": {
     "base_uri": "https://localhost:8080/"
    },
    "executionInfo": {
     "elapsed": 8695,
     "status": "ok",
     "timestamp": 1690527390793,
     "user": {
      "displayName": "Nikolai chow",
      "userId": "10141569665050960010"
     },
     "user_tz": -600
    },
    "id": "LF3CbZxu_71U",
    "outputId": "4c53ed25-7768-475b-e830-c82dcb806401",
    "slideshow": {
     "slide_type": "slide"
    }
   },
   "outputs": [],
   "source": [
    "# !pip install gCastle\n",
    "# !pip install networkx\n",
    "# !pip install statsmodels"
   ]
  },
  {
   "cell_type": "code",
   "execution_count": 2,
   "metadata": {
    "id": "Z8zjQKVi_71V",
    "slideshow": {
     "slide_type": "-"
    }
   },
   "outputs": [
    {
     "name": "stderr",
     "output_type": "stream",
     "text": [
      "2023-08-04 13:25:17,532 - C:\\Users\\nikolaichow\\Anaconda3\\lib\\site-packages\\castle\\algorithms\\__init__.py[line:36] - INFO: You are using ``pytorch`` as the backend.\n"
     ]
    }
   ],
   "source": [
    "import os\n",
    "os.environ['CASTLE_BACKEND'] = 'pytorch'\n",
    "\n",
    "import numpy as np\n",
    "import networkx as nx\n",
    "import pandas as pd\n",
    "import statsmodels.api as sm\n",
    "import matplotlib.pyplot as plt\n",
    "import castle\n",
    "from castle.algorithms import PC"
   ]
  },
  {
   "cell_type": "markdown",
   "metadata": {
    "slideshow": {
     "slide_type": "slide"
    }
   },
   "source": [
    "### Example 1"
   ]
  },
  {
   "cell_type": "code",
   "execution_count": 3,
   "metadata": {
    "colab": {
     "base_uri": "https://localhost:8080/"
    },
    "executionInfo": {
     "elapsed": 19,
     "status": "ok",
     "timestamp": 1690527400498,
     "user": {
      "displayName": "Nikolai chow",
      "userId": "10141569665050960010"
     },
     "user_tz": -600
    },
    "id": "Rh4C_wL-_71W",
    "outputId": "29d37869-a4ad-4fb8-c8d9-32bbe78c4f78",
    "slideshow": {
     "slide_type": "slide"
    }
   },
   "outputs": [],
   "source": [
    "# Let's generate the data\n",
    "\n",
    "x = np.random.randn(10000)\n",
    "y = np.random.randn(10000)\n",
    "z = x + y + 5.1 * np.random.randn(10000)\n",
    "w = 2.7 * z + 5.1 * np.random.randn(10000)\n",
    "\n",
    "# To matrix\n",
    "pc_dataset = np.vstack([x, y, z, w]).T"
   ]
  },
  {
   "cell_type": "code",
   "execution_count": 4,
   "metadata": {
    "slideshow": {
     "slide_type": "slide"
    }
   },
   "outputs": [
    {
     "name": "stdout",
     "output_type": "stream",
     "text": [
      "coef: [-0.018  0.981]\n",
      "p-value: [7.232e-01 2.430e-78]\n",
      "coef: [-0.003  0.973  0.974]\n",
      "p-value: [9.599e-01 8.117e-80 1.177e-80]\n",
      "coef: [0.024 0.111 0.326]\n",
      "p-value: [1.705e-01 4.916e-10 0.000e+00]\n",
      "coef: [0.026 0.114 0.104 0.325]\n",
      "p-value: [1.444e-01 1.903e-10 4.968e-09 0.000e+00]\n"
     ]
    }
   ],
   "source": [
    "# Define four model variants \n",
    "variants = [ [x], [x, y], [x, w], [x, y, w]] \n",
    "# Fit models iteratively\n",
    "for variant in variants: \n",
    "    X = sm.tools.tools.add_constant(np.stack(variant).T) \n",
    "    model = sm.OLS(z, X)\n",
    "    fitted_model = model.fit()\n",
    "    print('coef:',fitted_model.params)\n",
    "    print('p-value:',fitted_model.pvalues)"
   ]
  },
  {
   "cell_type": "markdown",
   "metadata": {
    "slideshow": {
     "slide_type": "slide"
    }
   },
   "source": [
    "![](https://drive.google.com/uc?export=view&id=1WDI50o6u_kXlwaQUUgM3q8CQ2Khv1GyK) "
   ]
  },
  {
   "cell_type": "code",
   "execution_count": 5,
   "metadata": {
    "colab": {
     "base_uri": "https://localhost:8080/"
    },
    "executionInfo": {
     "elapsed": 18,
     "status": "ok",
     "timestamp": 1690527400500,
     "user": {
      "displayName": "Nikolai chow",
      "userId": "10141569665050960010"
     },
     "user_tz": -600
    },
    "id": "ujTXZFN__71Z",
    "outputId": "0c572a0e-bcef-4991-dd25-21087abb8996",
    "slideshow": {
     "slide_type": "slide"
    }
   },
   "outputs": [
    {
     "name": "stdout",
     "output_type": "stream",
     "text": [
      "[[0 0 1 0]\n",
      " [0 0 1 0]\n",
      " [0 0 0 1]\n",
      " [0 0 0 0]]\n"
     ]
    }
   ],
   "source": [
    "# Build the model\n",
    "pc = PC()\n",
    "pc.learn(pc_dataset,p_cores=8)\n",
    "\n",
    "# Print out the learned matrix\n",
    "print(pc.causal_matrix)"
   ]
  },
  {
   "cell_type": "code",
   "execution_count": 6,
   "metadata": {
    "slideshow": {
     "slide_type": "slide"
    }
   },
   "outputs": [],
   "source": [
    "# Get learned graph\n",
    "learned_graph = nx.DiGraph(pc.causal_matrix)\n",
    "\n",
    "# Relabel the nodes\n",
    "MAPPING = {k: v for k, v in zip(range(4), ['X', 'Y', 'Z', 'W'])}\n",
    "learned_graph = nx.relabel_nodes(learned_graph, MAPPING, copy=True)"
   ]
  },
  {
   "cell_type": "code",
   "execution_count": 7,
   "metadata": {
    "slideshow": {
     "slide_type": "slide"
    }
   },
   "outputs": [
    {
     "data": {
      "image/png": "[encoded data removed]",
      "text/plain": [
       "<Figure size 640x480 with 1 Axes>"
      ]
     },
     "metadata": {},
     "output_type": "display_data"
    }
   ],
   "source": [
    "# Compute the circular layout for the graph\n",
    "pos = nx.circular_layout(learned_graph)\n",
    "nx.draw(learned_graph, pos, with_labels=True, node_size=1800, font_size=18, font_color='white')\n",
    "plt.margins(0.2)\n",
    "plt.show()"
   ]
  },
  {
   "cell_type": "markdown",
   "metadata": {
    "id": "DKQFCWgU33z1",
    "slideshow": {
     "slide_type": "slide"
    }
   },
   "source": [
    "### Example 2: Five-factor asset pricing model \n",
    "$R_{it} - R_{ft} = a_i + b_i(R_{Mt} - R_{ft}) + s_i SMB_t + h_i HML_t + r_i RMW_t + c_i CMA_t + e_{it}$\n",
    "\n",
    "The factors include:\n",
    "- Market risk premium: $b_i (R_{Mt} - R_{ft})$\n",
    "- Size effect: $s_i SMB_t$\n",
    "- Book-to-market effect: $h_i HML_t$\n",
    "- Profitability: $r_i RMW_t$\n",
    "- Investment patterns: $c_i CMA_t$\n"
   ]
  },
  {
   "cell_type": "markdown",
   "metadata": {
    "slideshow": {
     "slide_type": "slide"
    }
   },
   "source": [
    "### Data\n",
    "\n",
    "1. Data in Gu, S., Kelly, B., & Xiu, D. (2020)\n",
    "- Including factors that scholars believe can explain stock returns\n",
    "\n",
    "2. Returns of individual stocks (t+1)\n",
    "\n",
    "\n",
    "3. 5000 listed companies in 2015"
   ]
  },
  {
   "cell_type": "markdown",
   "metadata": {
    "slideshow": {
     "slide_type": "slide"
    }
   },
   "source": [
    "### Complete graph\n",
    "![](https://drive.google.com/uc?export=view&id=1VHSP79lQz1uF0fkMODIHjUvnA9k-_2ik) "
   ]
  },
  {
   "cell_type": "markdown",
   "metadata": {
    "slideshow": {
     "slide_type": "slide"
    }
   },
   "source": [
    "### Learned graph\n",
    "![](https://drive.google.com/uc?export=view&id=1VMkoJMcoGEpJtOZb-TbkDyfofrfoO4gw)"
   ]
  },
  {
   "cell_type": "markdown",
   "metadata": {
    "slideshow": {
     "slide_type": "slide"
    }
   },
   "source": [
    "### Comments from Nobel Prize winner Guido W. Imbens"
   ]
  },
  {
   "cell_type": "markdown",
   "metadata": {
    "slideshow": {
     "slide_type": "subslide"
    }
   },
   "source": [
    "Guido Imbens at Stanford University\n",
    "\n",
    "- Awarded with the Nobel Memorial Prize in Economic Sciences for methodological contributions to the analysis of causal relationships\n",
    "\n",
    "\n",
    "- Potential Outcome (PO) framework"
   ]
  },
  {
   "cell_type": "markdown",
   "metadata": {
    "slideshow": {
     "slide_type": "subslide"
    }
   },
   "source": [
    "Based on Imbens (2020), DAG approach has two fundamental benefits\n",
    "\n",
    "\n",
    "- Can be a powerful way of illustrating key assumptions in causal models\n",
    "\n",
    "\n",
    "- Machinery developed in the DAG literature aims to allow researchers to answer particular causal queries in a systematic way\n"
   ]
  },
  {
   "cell_type": "markdown",
   "metadata": {
    "slideshow": {
     "slide_type": "subslide"
    }
   },
   "source": [
    "There are five features of the PO framework that may be behind its current popularity in economics\n",
    "\n",
    "1. There are some assumptions that are easily captured in the PO framework relative to the DAG approach.\n",
    "\n",
    "\n",
    "2. The potential outcomes in the PO framework connect easily to traditional approaches to economic models such as supply and demand settings where potential outcome functions are the natural primitives\n"
   ]
  },
  {
   "cell_type": "markdown",
   "metadata": {
    "slideshow": {
     "slide_type": "subslide"
    }
   },
   "source": [
    "3. Many of the currently popular identification strategies focus on models with relatively few (sets of) variables, where identification questions have been worked out once and for all\n",
    "\n",
    "\n",
    "4. The PO framework lends itself well to accounting for treatment effect heterogeneity in estimands and incorporating such heterogeneity in estimation and the design of optimal policy functions \n"
   ]
  },
  {
   "cell_type": "markdown",
   "metadata": {
    "slideshow": {
     "slide_type": "subslide"
    }
   },
   "source": [
    "5. The PO approach has traditionally connected well with design, estimation, and inference questions. From the outset Rubin and his coauthors provided much guidance to researchers and policy makers for practical implementation including inference\n",
    "\n",
    "\n",
    "Comments from Judea Pearl could be found in Pearl (2020):\n",
    "http://causality.cs.ucla.edu/blog/index.php/2020/01/29/on-imbens-comparison-of-two-approaches-to-empirical-economics/"
   ]
  },
  {
   "cell_type": "markdown",
   "metadata": {
    "id": "CXCoVLJIKYQk",
    "slideshow": {
     "slide_type": "slide"
    }
   },
   "source": [
    "### Why it is not famous in Economics and Finance?\n",
    "\n",
    "\n",
    "1. Direction of the causality is assumed in many cases\n",
    "\n",
    "\n",
    "2. Not interested in system that is too complexed\n",
    "- Less variables"
   ]
  },
  {
   "cell_type": "markdown",
   "metadata": {
    "id": "KPITuvoT_71a",
    "slideshow": {
     "slide_type": "slide"
    }
   },
   "source": [
    "### References\n",
    "\n",
    "Chickering, D. M. (2002). Learning equivalence classes of Bayesian-network structures. The Journal of Machine Learning Research, 2, 445-498.\n",
    "\n",
    "Fama, E. F., & French, K. R. (2015). A five-factor asset pricing model. Journal of financial economics, 116(1), 1-22.\n",
    "\n",
    "Glymour, C., Zhang, K., & Spirtes, P. (2019). Review of causal discovery methods based on graphical models. Frontiers in genetics, 10, 524.\n",
    "\n",
    "Gu, S., Kelly, B., & Xiu, D. (2020). Empirical asset pricing via machine learning. The Review of Financial Studies, 33(5), 2223-2273."
   ]
  },
  {
   "cell_type": "markdown",
   "metadata": {
    "slideshow": {
     "slide_type": "subslide"
    }
   },
   "source": [
    "Imbens, G. W. (2020). Potential outcome and directed acyclic graph approaches to causality: Relevance for empirical practice in economics. Journal of Economic Literature, 58(4), 1129-1179.\n",
    "\n",
    "Molak, A. (2023) Causal inference and discovery in python.\n",
    "\n",
    "Pearl, J., Glymour, M., & Jewell, N. P. (2016). Causal inference in statistics: A primer. John Wiley & Sons."
   ]
  },
  {
   "cell_type": "markdown",
   "metadata": {
    "slideshow": {
     "slide_type": "subslide"
    }
   },
   "source": [
    "Pearl, J. (2020). On imbens’s comparison of two approaches to empirical economics. Causal analysis in theory and practice.\n",
    "\n",
    "Spirtes, P., Glymour, C. N., & Scheines, R. (2000). Causation, prediction, and search. MIT press."
   ]
  }
 ],
 "metadata": {
  "celltoolbar": "Slideshow",
  "colab": {
   "provenance": []
  },
  "kernelspec": {
   "display_name": "Python 3 (ipykernel)",
   "language": "python",
   "name": "python3"
  },
  "language_info": {
   "codemirror_mode": {
    "name": "ipython",
    "version": 3
   },
   "file_extension": ".py",
   "mimetype": "text/x-python",
   "name": "python",
   "nbconvert_exporter": "python",
   "pygments_lexer": "ipython3",
   "version": "3.9.16"
  }
 },
 "nbformat": 4,
 "nbformat_minor": 1
}
